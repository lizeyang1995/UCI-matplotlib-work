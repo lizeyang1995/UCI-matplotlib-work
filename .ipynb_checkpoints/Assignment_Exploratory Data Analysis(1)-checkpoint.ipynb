{
 "cells": [
  {
   "cell_type": "markdown",
   "metadata": {},
   "source": [
    "# Individual Assignment. Exploratory Data Analysis\n",
    "\n",
    "\n",
    "\n",
    "\n",
    "\n",
    "In part 1 of this assignment, we will focus on exploratory data analysis of stock prices. Keep in mind, this assignment is just meant to practice your visualization and pandas skills, it is not meant to be a robust financial analysis or be taken as financial advice.\n",
    "____\n",
    "** NOTE: This project is challenging and you have to look things up on your own to try to solve the tasks issued. **\n",
    "____\n",
    "We'll focus on bank stocks and see how they progressed throughout the [financial crisis](https://en.wikipedia.org/wiki/Financial_crisis_of_2007%E2%80%9308) all the way to early 2017."
   ]
  },
  {
   "cell_type": "markdown",
   "metadata": {},
   "source": [
    "# Part 1\n",
    "\n",
    "\n",
    "## Get the Data\n",
    "\n",
    "In this section we will learn how to use pandas to directly read data from Yahoo finance using pandas!\n",
    "\n",
    "First we need to start with the proper imports, which we've already laid out for you here.\n",
    "\n",
    "*Note: [You'll need to install pandas-datareader for this to work!](https://github.com/pydata/pandas-datareader) Pandas datareader allows you to [read stock information directly from the internet](http://pandas.pydata.org/pandas-docs/stable/remote_data.html) Use these links for install guidance (**pip install pandas-datareader**).*\n",
    "\n",
    "### The Imports\n"
   ]
  },
  {
   "cell_type": "code",
   "execution_count": 1,
   "metadata": {},
   "outputs": [
    {
     "name": "stdout",
     "output_type": "stream",
     "text": [
      "Requirement already satisfied: pandas-datareader in d:\\ppppython\\lib\\site-packages (0.8.1)\n",
      "Requirement already satisfied: requests>=2.3.0 in d:\\ppppython\\lib\\site-packages (from pandas-datareader) (2.18.4)\n",
      "Requirement already satisfied: pandas>=0.21 in d:\\ppppython\\lib\\site-packages (from pandas-datareader) (0.25.3)\n",
      "Requirement already satisfied: lxml in d:\\ppppython\\lib\\site-packages (from pandas-datareader) (4.2.1)\n",
      "Requirement already satisfied: chardet<3.1.0,>=3.0.2 in d:\\ppppython\\lib\\site-packages (from requests>=2.3.0->pandas-datareader) (3.0.4)\n",
      "Requirement already satisfied: idna<2.7,>=2.5 in d:\\ppppython\\lib\\site-packages (from requests>=2.3.0->pandas-datareader) (2.6)\n",
      "Requirement already satisfied: urllib3<1.23,>=1.21.1 in d:\\ppppython\\lib\\site-packages (from requests>=2.3.0->pandas-datareader) (1.22)\n",
      "Requirement already satisfied: certifi>=2017.4.17 in d:\\ppppython\\lib\\site-packages (from requests>=2.3.0->pandas-datareader) (2018.11.29)\n",
      "Requirement already satisfied: numpy>=1.13.3 in d:\\ppppython\\lib\\site-packages (from pandas>=0.21->pandas-datareader) (1.16.2)\n",
      "Requirement already satisfied: python-dateutil>=2.6.1 in d:\\ppppython\\lib\\site-packages (from pandas>=0.21->pandas-datareader) (2.7.3)\n",
      "Requirement already satisfied: pytz>=2017.2 in d:\\ppppython\\lib\\site-packages (from pandas>=0.21->pandas-datareader) (2018.4)\n",
      "Requirement already satisfied: six>=1.5 in d:\\ppppython\\lib\\site-packages (from python-dateutil>=2.6.1->pandas>=0.21->pandas-datareader) (1.12.0)\n",
      "Requirement already up-to-date: pandas in d:\\ppppython\\lib\\site-packages (0.25.3)\n",
      "Requirement already satisfied, skipping upgrade: pytz>=2017.2 in d:\\ppppython\\lib\\site-packages (from pandas) (2018.4)\n",
      "Requirement already satisfied, skipping upgrade: numpy>=1.13.3 in d:\\ppppython\\lib\\site-packages (from pandas) (1.16.2)\n",
      "Requirement already satisfied, skipping upgrade: python-dateutil>=2.6.1 in d:\\ppppython\\lib\\site-packages (from pandas) (2.7.3)\n",
      "Requirement already satisfied, skipping upgrade: six>=1.5 in d:\\ppppython\\lib\\site-packages (from python-dateutil>=2.6.1->pandas) (1.12.0)\n"
     ]
    }
   ],
   "source": [
    "!pip install pandas-datareader\n",
    "!pip install --upgrade pandas\n",
    "import pandas as pd\n",
    "import numpy as np\n",
    "pd.core.common.is_list_like = pd.api.types.is_list_like\n",
    "from pandas_datareader import data, wb\n",
    "\n",
    "import datetime\n",
    "%matplotlib inline"
   ]
  },
  {
   "cell_type": "markdown",
   "metadata": {},
   "source": [
    "## Data\n",
    "\n",
    "We need to get data using pandas datareader. We will get stock information for the following banks:\n",
    "*  Bank of America\n",
    "* CitiGroup\n",
    "* Goldman Sachs\n",
    "* JPMorgan Chase\n",
    "* Morgan Stanley\n",
    "* Wells Fargo\n",
    "\n",
    "** Figure out how to get the stock data from Jan 1st 2016 to Jan 1st 2017 for each of these banks. Set each bank to be a separate dataframe, with the variable name for that bank being its ticker symbol. This will involve a few steps:**\n",
    "1. Use datetime to set start and end datetime objects.\n",
    "2. Figure out the ticker symbol for each bank.\n",
    "2. Figure out how to use datareader to grab info on the stock.\n",
    "\n",
    "** Use [this documentation page](https://pandas-datareader.readthedocs.io/en/latest/) for hints and instructions (it should just be a matter of replacing certain values. Use google finance as a source, for example:**\n",
    "    \n",
    "    # Bank of America\n",
    "    BAC = data.DataReader(\"BAC\", 'google', start, end)\n"
   ]
  },
  {
   "cell_type": "code",
   "execution_count": 2,
   "metadata": {},
   "outputs": [],
   "source": [
    "start = datetime.datetime(2016, 1, 1)\n",
    "end = datetime.datetime(2017, 1, 1)"
   ]
  },
  {
   "cell_type": "code",
   "execution_count": 3,
   "metadata": {},
   "outputs": [],
   "source": [
    "# Bank of America\n",
    "BAC = data.DataReader(\"BAC\", 'yahoo', start, end)\n",
    "\n",
    "# CitiGroup\n",
    "C = data.DataReader(\"C\", 'yahoo', start, end)\n",
    "\n",
    "# Goldman Sachs\n",
    "GS = data.DataReader(\"GS\", 'yahoo', start, end)\n",
    "\n",
    "# JPMorgan Chase\n",
    "JPM = data.DataReader(\"JPM\", 'yahoo', start, end)\n",
    "\n",
    "# Morgan Stanley\n",
    "MS = data.DataReader(\"MS\", 'yahoo', start, end)\n",
    "\n",
    "# Wells Fargo\n",
    "WFC = data.DataReader(\"WFC\", 'yahoo', start, end)"
   ]
  },
  {
   "cell_type": "code",
   "execution_count": 4,
   "metadata": {},
   "outputs": [
    {
     "data": {
      "text/plain": [
       "2016-09-08    1\n",
       "2016-03-08    1\n",
       "2016-07-07    1\n",
       "2016-09-07    1\n",
       "2016-11-08    1\n",
       "             ..\n",
       "2016-08-09    1\n",
       "2016-09-09    1\n",
       "2016-10-10    1\n",
       "2016-11-10    1\n",
       "2016-08-08    1\n",
       "Name: Date, Length: 253, dtype: int64"
      ]
     },
     "execution_count": 4,
     "metadata": {},
     "output_type": "execute_result"
    }
   ],
   "source": [
    "WFC.reset_index(inplace=True)\n",
    "WFC[\"Date\"].value_counts()"
   ]
  },
  {
   "cell_type": "code",
   "execution_count": 5,
   "metadata": {},
   "outputs": [],
   "source": [
    "# Could also do this for a Panel Object\n",
    "df = data.DataReader(['BAC', 'C', 'GS', 'JPM', 'MS', 'WFC'],'yahoo', start, end)\n"
   ]
  },
  {
   "cell_type": "markdown",
   "metadata": {},
   "source": [
    "##### Add a Column_Company Name (this is filled out for you)"
   ]
  },
  {
   "cell_type": "code",
   "execution_count": 6,
   "metadata": {},
   "outputs": [],
   "source": [
    "BAC[\"Company\"]='BOA'\n",
    "C[\"Company\"]='Citi'\n",
    "GS[\"Company\"]='GoldmanSachs'\n",
    "JPM[\"Company\"]='JPMorgan'\n",
    "MS[\"Company\"]='MorganStanley'\n",
    "WFC[\"Company\"]='WellsFargo'"
   ]
  },
  {
   "cell_type": "code",
   "execution_count": 7,
   "metadata": {},
   "outputs": [
    {
     "data": {
      "text/plain": [
       "MultiIndex([('Adj Close', 'BAC'),\n",
       "            ('Adj Close',   'C'),\n",
       "            ('Adj Close',  'GS'),\n",
       "            ('Adj Close', 'JPM'),\n",
       "            ('Adj Close',  'MS'),\n",
       "            ('Adj Close', 'WFC'),\n",
       "            (    'Close', 'BAC'),\n",
       "            (    'Close',   'C'),\n",
       "            (    'Close',  'GS'),\n",
       "            (    'Close', 'JPM'),\n",
       "            (    'Close',  'MS'),\n",
       "            (    'Close', 'WFC'),\n",
       "            (     'High', 'BAC'),\n",
       "            (     'High',   'C'),\n",
       "            (     'High',  'GS'),\n",
       "            (     'High', 'JPM'),\n",
       "            (     'High',  'MS'),\n",
       "            (     'High', 'WFC'),\n",
       "            (      'Low', 'BAC'),\n",
       "            (      'Low',   'C'),\n",
       "            (      'Low',  'GS'),\n",
       "            (      'Low', 'JPM'),\n",
       "            (      'Low',  'MS'),\n",
       "            (      'Low', 'WFC'),\n",
       "            (     'Open', 'BAC'),\n",
       "            (     'Open',   'C'),\n",
       "            (     'Open',  'GS'),\n",
       "            (     'Open', 'JPM'),\n",
       "            (     'Open',  'MS'),\n",
       "            (     'Open', 'WFC'),\n",
       "            (   'Volume', 'BAC'),\n",
       "            (   'Volume',   'C'),\n",
       "            (   'Volume',  'GS'),\n",
       "            (   'Volume', 'JPM'),\n",
       "            (   'Volume',  'MS'),\n",
       "            (   'Volume', 'WFC')],\n",
       "           names=['Attributes', 'Symbols'])"
      ]
     },
     "execution_count": 7,
     "metadata": {},
     "output_type": "execute_result"
    }
   ],
   "source": [
    "df.head\n",
    "df.columns"
   ]
  },
  {
   "cell_type": "markdown",
   "metadata": {},
   "source": [
    "##### Draw the closing prices of BAC"
   ]
  },
  {
   "cell_type": "code",
   "execution_count": 8,
   "metadata": {},
   "outputs": [
    {
     "data": {
      "text/plain": [
       "Text(0.5, 1.0, 'Closing Prices of BAC')"
      ]
     },
     "execution_count": 8,
     "metadata": {},
     "output_type": "execute_result"
    },
    {
     "data": {
      "image/png": "[encoded data removed]",
      "text/plain": [
       "<Figure size 720x720 with 1 Axes>"
      ]
     },
     "metadata": {},
     "output_type": "display_data"
    }
   ],
   "source": [
    "import matplotlib.pyplot as plt\n",
    "df['Close']['BAC'].plot(figsize=(10,10),fontsize=10)\n",
    "plt.title(\"Closing Prices of BAC\")\n",
    "# your code here"
   ]
  },
  {
   "cell_type": "markdown",
   "metadata": {},
   "source": [
    "##### Append all the data sets"
   ]
  },
  {
   "cell_type": "code",
   "execution_count": 7,
   "metadata": {},
   "outputs": [
    {
     "data": {
      "text/html": [
       "<div>\n",
       "<style scoped>\n",
       "    .dataframe tbody tr th:only-of-type {\n",
       "        vertical-align: middle;\n",
       "    }\n",
       "\n",
       "    .dataframe tbody tr th {\n",
       "        vertical-align: top;\n",
       "    }\n",
       "\n",
       "    .dataframe thead th {\n",
       "        text-align: right;\n",
       "    }\n",
       "</style>\n",
       "<table border=\"1\" class=\"dataframe\">\n",
       "  <thead>\n",
       "    <tr style=\"text-align: right;\">\n",
       "      <th></th>\n",
       "      <th>Date</th>\n",
       "      <th>High</th>\n",
       "      <th>Low</th>\n",
       "      <th>Open</th>\n",
       "      <th>Close</th>\n",
       "      <th>Volume</th>\n",
       "      <th>Adj Close</th>\n",
       "      <th>Company</th>\n",
       "    </tr>\n",
       "  </thead>\n",
       "  <tbody>\n",
       "    <tr>\n",
       "      <th>0</th>\n",
       "      <td>2015-12-31</td>\n",
       "      <td>17.070000</td>\n",
       "      <td>16.830000</td>\n",
       "      <td>17.010000</td>\n",
       "      <td>16.830000</td>\n",
       "      <td>47153000.0</td>\n",
       "      <td>15.747576</td>\n",
       "      <td>BOA</td>\n",
       "    </tr>\n",
       "    <tr>\n",
       "      <th>1</th>\n",
       "      <td>2016-01-04</td>\n",
       "      <td>16.490000</td>\n",
       "      <td>16.250000</td>\n",
       "      <td>16.450001</td>\n",
       "      <td>16.430000</td>\n",
       "      <td>114888000.0</td>\n",
       "      <td>15.373302</td>\n",
       "      <td>BOA</td>\n",
       "    </tr>\n",
       "    <tr>\n",
       "      <th>2</th>\n",
       "      <td>2016-01-05</td>\n",
       "      <td>16.590000</td>\n",
       "      <td>16.230000</td>\n",
       "      <td>16.520000</td>\n",
       "      <td>16.430000</td>\n",
       "      <td>66670000.0</td>\n",
       "      <td>15.373302</td>\n",
       "      <td>BOA</td>\n",
       "    </tr>\n",
       "    <tr>\n",
       "      <th>3</th>\n",
       "      <td>2016-01-06</td>\n",
       "      <td>16.290001</td>\n",
       "      <td>16.020000</td>\n",
       "      <td>16.190001</td>\n",
       "      <td>16.080000</td>\n",
       "      <td>102760800.0</td>\n",
       "      <td>15.045812</td>\n",
       "      <td>BOA</td>\n",
       "    </tr>\n",
       "    <tr>\n",
       "      <th>4</th>\n",
       "      <td>2016-01-07</td>\n",
       "      <td>15.900000</td>\n",
       "      <td>15.440000</td>\n",
       "      <td>15.730000</td>\n",
       "      <td>15.500000</td>\n",
       "      <td>116255900.0</td>\n",
       "      <td>14.503113</td>\n",
       "      <td>BOA</td>\n",
       "    </tr>\n",
       "    <tr>\n",
       "      <th>...</th>\n",
       "      <td>...</td>\n",
       "      <td>...</td>\n",
       "      <td>...</td>\n",
       "      <td>...</td>\n",
       "      <td>...</td>\n",
       "      <td>...</td>\n",
       "      <td>...</td>\n",
       "      <td>...</td>\n",
       "    </tr>\n",
       "    <tr>\n",
       "      <th>248</th>\n",
       "      <td>2016-12-23</td>\n",
       "      <td>55.980000</td>\n",
       "      <td>55.619999</td>\n",
       "      <td>55.779999</td>\n",
       "      <td>55.959999</td>\n",
       "      <td>8313000.0</td>\n",
       "      <td>50.831436</td>\n",
       "      <td>WellsFargo</td>\n",
       "    </tr>\n",
       "    <tr>\n",
       "      <th>249</th>\n",
       "      <td>2016-12-27</td>\n",
       "      <td>56.099998</td>\n",
       "      <td>55.840000</td>\n",
       "      <td>55.900002</td>\n",
       "      <td>55.950001</td>\n",
       "      <td>8893900.0</td>\n",
       "      <td>50.822350</td>\n",
       "      <td>WellsFargo</td>\n",
       "    </tr>\n",
       "    <tr>\n",
       "      <th>250</th>\n",
       "      <td>2016-12-28</td>\n",
       "      <td>56.080002</td>\n",
       "      <td>55.270000</td>\n",
       "      <td>55.980000</td>\n",
       "      <td>55.320000</td>\n",
       "      <td>10609100.0</td>\n",
       "      <td>50.250080</td>\n",
       "      <td>WellsFargo</td>\n",
       "    </tr>\n",
       "    <tr>\n",
       "      <th>251</th>\n",
       "      <td>2016-12-29</td>\n",
       "      <td>55.459999</td>\n",
       "      <td>54.480000</td>\n",
       "      <td>55.189999</td>\n",
       "      <td>54.840000</td>\n",
       "      <td>15933500.0</td>\n",
       "      <td>49.814072</td>\n",
       "      <td>WellsFargo</td>\n",
       "    </tr>\n",
       "    <tr>\n",
       "      <th>252</th>\n",
       "      <td>2016-12-30</td>\n",
       "      <td>55.360001</td>\n",
       "      <td>54.790001</td>\n",
       "      <td>54.889999</td>\n",
       "      <td>55.110001</td>\n",
       "      <td>15095500.0</td>\n",
       "      <td>50.059334</td>\n",
       "      <td>WellsFargo</td>\n",
       "    </tr>\n",
       "  </tbody>\n",
       "</table>\n",
       "<p>1518 rows × 8 columns</p>\n",
       "</div>"
      ],
      "text/plain": [
       "          Date       High        Low       Open      Close       Volume  \\\n",
       "0   2015-12-31  17.070000  16.830000  17.010000  16.830000   47153000.0   \n",
       "1   2016-01-04  16.490000  16.250000  16.450001  16.430000  114888000.0   \n",
       "2   2016-01-05  16.590000  16.230000  16.520000  16.430000   66670000.0   \n",
       "3   2016-01-06  16.290001  16.020000  16.190001  16.080000  102760800.0   \n",
       "4   2016-01-07  15.900000  15.440000  15.730000  15.500000  116255900.0   \n",
       "..         ...        ...        ...        ...        ...          ...   \n",
       "248 2016-12-23  55.980000  55.619999  55.779999  55.959999    8313000.0   \n",
       "249 2016-12-27  56.099998  55.840000  55.900002  55.950001    8893900.0   \n",
       "250 2016-12-28  56.080002  55.270000  55.980000  55.320000   10609100.0   \n",
       "251 2016-12-29  55.459999  54.480000  55.189999  54.840000   15933500.0   \n",
       "252 2016-12-30  55.360001  54.790001  54.889999  55.110001   15095500.0   \n",
       "\n",
       "     Adj Close     Company  \n",
       "0    15.747576         BOA  \n",
       "1    15.373302         BOA  \n",
       "2    15.373302         BOA  \n",
       "3    15.045812         BOA  \n",
       "4    14.503113         BOA  \n",
       "..         ...         ...  \n",
       "248  50.831436  WellsFargo  \n",
       "249  50.822350  WellsFargo  \n",
       "250  50.250080  WellsFargo  \n",
       "251  49.814072  WellsFargo  \n",
       "252  50.059334  WellsFargo  \n",
       "\n",
       "[1518 rows x 8 columns]"
      ]
     },
     "execution_count": 7,
     "metadata": {},
     "output_type": "execute_result"
    }
   ],
   "source": [
    "# your code here\n",
    "df = pd.concat([BAC.reset_index(), C.reset_index(), GS.reset_index(), JPM.reset_index(), MS.reset_index(), WFC])\n",
    "df"
   ]
  },
  {
   "cell_type": "markdown",
   "metadata": {},
   "source": [
    "##### Derive the average closing price for each bank"
   ]
  },
  {
   "cell_type": "code",
   "execution_count": 8,
   "metadata": {},
   "outputs": [
    {
     "data": {
      "text/plain": [
       "Company\n",
       "BOA               15.437431\n",
       "Citi              46.407312\n",
       "GoldmanSachs     169.157747\n",
       "JPMorgan          65.624427\n",
       "MorganStanley     29.855889\n",
       "WellsFargo        48.978735\n",
       "Name: Close, dtype: float64"
      ]
     },
     "execution_count": 8,
     "metadata": {},
     "output_type": "execute_result"
    }
   ],
   "source": [
    "# your code here\n",
    "df.groupby('Company').Close.mean()\n"
   ]
  },
  {
   "cell_type": "markdown",
   "metadata": {},
   "source": [
    "##### Plot the average closing price for each bank using matplotlib or plotly and cufflinks\n"
   ]
  },
  {
   "cell_type": "code",
   "execution_count": 22,
   "metadata": {},
   "outputs": [
    {
     "data": {
      "text/plain": [
       "<matplotlib.axes._subplots.AxesSubplot at 0x28d2f16aeb8>"
      ]
     },
     "execution_count": 22,
     "metadata": {},
     "output_type": "execute_result"
    },
    {
     "data": {
      "image/png": "[encoded data removed]",
      "text/plain": [
       "<Figure size 432x288 with 1 Axes>"
      ]
     },
     "metadata": {},
     "output_type": "display_data"
    }
   ],
   "source": [
    "# your code here\n",
    "df.groupby('Company').Close.mean().plot(kind = 'barh', color = 'navy')"
   ]
  },
  {
   "cell_type": "markdown",
   "metadata": {},
   "source": [
    "\n",
    "** What is the max Close price for each bank's stock throughout the time period?**"
   ]
  },
  {
   "cell_type": "code",
   "execution_count": 64,
   "metadata": {},
   "outputs": [
    {
     "data": {
      "text/plain": [
       "Company\n",
       "BOA               23.160000\n",
       "Citi              61.090000\n",
       "GoldmanSachs     243.089996\n",
       "JPMorgan          87.129997\n",
       "MorganStanley     43.730000\n",
       "WellsFargo        57.290001\n",
       "Name: Close, dtype: float64"
      ]
     },
     "execution_count": 64,
     "metadata": {},
     "output_type": "execute_result"
    }
   ],
   "source": [
    "# your code here\n",
    "df.groupby('Company').Close.max()"
   ]
  },
  {
   "cell_type": "markdown",
   "metadata": {},
   "source": [
    "** Create a new dataframe called returns. This dataframe will contain the returns for each bank's stock. returns are typically defined by:**\n",
    "\n",
    "$$r_t = \\frac{p_t - p_{t-1}}{p_{t-1}} = \\frac{p_t}{p_{t-1}} - 1$$"
   ]
  },
  {
   "cell_type": "markdown",
   "metadata": {},
   "source": [
    "** We can use pandas pct_change() method on the Close column to create a new dataframe representing this return value. Use .groupby().**"
   ]
  },
  {
   "cell_type": "code",
   "execution_count": 9,
   "metadata": {},
   "outputs": [
    {
     "data": {
      "text/html": [
       "<div>\n",
       "<style scoped>\n",
       "    .dataframe tbody tr th:only-of-type {\n",
       "        vertical-align: middle;\n",
       "    }\n",
       "\n",
       "    .dataframe tbody tr th {\n",
       "        vertical-align: top;\n",
       "    }\n",
       "\n",
       "    .dataframe thead th {\n",
       "        text-align: right;\n",
       "    }\n",
       "</style>\n",
       "<table border=\"1\" class=\"dataframe\">\n",
       "  <thead>\n",
       "    <tr style=\"text-align: right;\">\n",
       "      <th></th>\n",
       "      <th>Date</th>\n",
       "      <th>High</th>\n",
       "      <th>Low</th>\n",
       "      <th>Open</th>\n",
       "      <th>Close</th>\n",
       "      <th>Volume</th>\n",
       "      <th>Adj Close</th>\n",
       "      <th>Company</th>\n",
       "      <th>Return</th>\n",
       "    </tr>\n",
       "  </thead>\n",
       "  <tbody>\n",
       "    <tr>\n",
       "      <th>0</th>\n",
       "      <td>2015-12-31</td>\n",
       "      <td>17.070000</td>\n",
       "      <td>16.830000</td>\n",
       "      <td>17.010000</td>\n",
       "      <td>16.830000</td>\n",
       "      <td>47153000.0</td>\n",
       "      <td>15.747576</td>\n",
       "      <td>BOA</td>\n",
       "      <td>NaN</td>\n",
       "    </tr>\n",
       "    <tr>\n",
       "      <th>1</th>\n",
       "      <td>2016-01-04</td>\n",
       "      <td>16.490000</td>\n",
       "      <td>16.250000</td>\n",
       "      <td>16.450001</td>\n",
       "      <td>16.430000</td>\n",
       "      <td>114888000.0</td>\n",
       "      <td>15.373302</td>\n",
       "      <td>BOA</td>\n",
       "      <td>-0.023767</td>\n",
       "    </tr>\n",
       "    <tr>\n",
       "      <th>2</th>\n",
       "      <td>2016-01-05</td>\n",
       "      <td>16.590000</td>\n",
       "      <td>16.230000</td>\n",
       "      <td>16.520000</td>\n",
       "      <td>16.430000</td>\n",
       "      <td>66670000.0</td>\n",
       "      <td>15.373302</td>\n",
       "      <td>BOA</td>\n",
       "      <td>0.000000</td>\n",
       "    </tr>\n",
       "    <tr>\n",
       "      <th>3</th>\n",
       "      <td>2016-01-06</td>\n",
       "      <td>16.290001</td>\n",
       "      <td>16.020000</td>\n",
       "      <td>16.190001</td>\n",
       "      <td>16.080000</td>\n",
       "      <td>102760800.0</td>\n",
       "      <td>15.045812</td>\n",
       "      <td>BOA</td>\n",
       "      <td>-0.021303</td>\n",
       "    </tr>\n",
       "    <tr>\n",
       "      <th>4</th>\n",
       "      <td>2016-01-07</td>\n",
       "      <td>15.900000</td>\n",
       "      <td>15.440000</td>\n",
       "      <td>15.730000</td>\n",
       "      <td>15.500000</td>\n",
       "      <td>116255900.0</td>\n",
       "      <td>14.503113</td>\n",
       "      <td>BOA</td>\n",
       "      <td>-0.036070</td>\n",
       "    </tr>\n",
       "    <tr>\n",
       "      <th>...</th>\n",
       "      <td>...</td>\n",
       "      <td>...</td>\n",
       "      <td>...</td>\n",
       "      <td>...</td>\n",
       "      <td>...</td>\n",
       "      <td>...</td>\n",
       "      <td>...</td>\n",
       "      <td>...</td>\n",
       "      <td>...</td>\n",
       "    </tr>\n",
       "    <tr>\n",
       "      <th>248</th>\n",
       "      <td>2016-12-23</td>\n",
       "      <td>55.980000</td>\n",
       "      <td>55.619999</td>\n",
       "      <td>55.779999</td>\n",
       "      <td>55.959999</td>\n",
       "      <td>8313000.0</td>\n",
       "      <td>50.831436</td>\n",
       "      <td>WellsFargo</td>\n",
       "      <td>0.003767</td>\n",
       "    </tr>\n",
       "    <tr>\n",
       "      <th>249</th>\n",
       "      <td>2016-12-27</td>\n",
       "      <td>56.099998</td>\n",
       "      <td>55.840000</td>\n",
       "      <td>55.900002</td>\n",
       "      <td>55.950001</td>\n",
       "      <td>8893900.0</td>\n",
       "      <td>50.822350</td>\n",
       "      <td>WellsFargo</td>\n",
       "      <td>-0.000179</td>\n",
       "    </tr>\n",
       "    <tr>\n",
       "      <th>250</th>\n",
       "      <td>2016-12-28</td>\n",
       "      <td>56.080002</td>\n",
       "      <td>55.270000</td>\n",
       "      <td>55.980000</td>\n",
       "      <td>55.320000</td>\n",
       "      <td>10609100.0</td>\n",
       "      <td>50.250080</td>\n",
       "      <td>WellsFargo</td>\n",
       "      <td>-0.011260</td>\n",
       "    </tr>\n",
       "    <tr>\n",
       "      <th>251</th>\n",
       "      <td>2016-12-29</td>\n",
       "      <td>55.459999</td>\n",
       "      <td>54.480000</td>\n",
       "      <td>55.189999</td>\n",
       "      <td>54.840000</td>\n",
       "      <td>15933500.0</td>\n",
       "      <td>49.814072</td>\n",
       "      <td>WellsFargo</td>\n",
       "      <td>-0.008677</td>\n",
       "    </tr>\n",
       "    <tr>\n",
       "      <th>252</th>\n",
       "      <td>2016-12-30</td>\n",
       "      <td>55.360001</td>\n",
       "      <td>54.790001</td>\n",
       "      <td>54.889999</td>\n",
       "      <td>55.110001</td>\n",
       "      <td>15095500.0</td>\n",
       "      <td>50.059334</td>\n",
       "      <td>WellsFargo</td>\n",
       "      <td>0.004923</td>\n",
       "    </tr>\n",
       "  </tbody>\n",
       "</table>\n",
       "<p>1518 rows × 9 columns</p>\n",
       "</div>"
      ],
      "text/plain": [
       "          Date       High        Low       Open      Close       Volume  \\\n",
       "0   2015-12-31  17.070000  16.830000  17.010000  16.830000   47153000.0   \n",
       "1   2016-01-04  16.490000  16.250000  16.450001  16.430000  114888000.0   \n",
       "2   2016-01-05  16.590000  16.230000  16.520000  16.430000   66670000.0   \n",
       "3   2016-01-06  16.290001  16.020000  16.190001  16.080000  102760800.0   \n",
       "4   2016-01-07  15.900000  15.440000  15.730000  15.500000  116255900.0   \n",
       "..         ...        ...        ...        ...        ...          ...   \n",
       "248 2016-12-23  55.980000  55.619999  55.779999  55.959999    8313000.0   \n",
       "249 2016-12-27  56.099998  55.840000  55.900002  55.950001    8893900.0   \n",
       "250 2016-12-28  56.080002  55.270000  55.980000  55.320000   10609100.0   \n",
       "251 2016-12-29  55.459999  54.480000  55.189999  54.840000   15933500.0   \n",
       "252 2016-12-30  55.360001  54.790001  54.889999  55.110001   15095500.0   \n",
       "\n",
       "     Adj Close     Company    Return  \n",
       "0    15.747576         BOA       NaN  \n",
       "1    15.373302         BOA -0.023767  \n",
       "2    15.373302         BOA  0.000000  \n",
       "3    15.045812         BOA -0.021303  \n",
       "4    14.503113         BOA -0.036070  \n",
       "..         ...         ...       ...  \n",
       "248  50.831436  WellsFargo  0.003767  \n",
       "249  50.822350  WellsFargo -0.000179  \n",
       "250  50.250080  WellsFargo -0.011260  \n",
       "251  49.814072  WellsFargo -0.008677  \n",
       "252  50.059334  WellsFargo  0.004923  \n",
       "\n",
       "[1518 rows x 9 columns]"
      ]
     },
     "execution_count": 9,
     "metadata": {},
     "output_type": "execute_result"
    }
   ],
   "source": [
    "# # your code here\n",
    "# df['Return'] = df['Close'].pct_change()\n",
    "# df['Return'].plot(figsize=(10,10),fontsize=10)\n",
    "#Use pct_change function with Close column to calculate Return for each company\n",
    "Returns = df.groupby('Company').Close.pct_change() \n",
    "Returns\n",
    "df['Return'] = Returns\n",
    "df"
   ]
  },
  {
   "cell_type": "markdown",
   "metadata": {},
   "source": [
    "** Using this returns DataFrame, figure out on what dates each bank stock had the best and worst single day returns. Did anything significant happen that day?**"
   ]
  },
  {
   "cell_type": "code",
   "execution_count": 55,
   "metadata": {},
   "outputs": [
    {
     "data": {
      "text/html": [
       "<div>\n",
       "<style scoped>\n",
       "    .dataframe tbody tr th:only-of-type {\n",
       "        vertical-align: middle;\n",
       "    }\n",
       "\n",
       "    .dataframe tbody tr th {\n",
       "        vertical-align: top;\n",
       "    }\n",
       "\n",
       "    .dataframe thead th {\n",
       "        text-align: right;\n",
       "    }\n",
       "</style>\n",
       "<table border=\"1\" class=\"dataframe\">\n",
       "  <thead>\n",
       "    <tr style=\"text-align: right;\">\n",
       "      <th></th>\n",
       "      <th>max</th>\n",
       "      <th>min</th>\n",
       "    </tr>\n",
       "  </thead>\n",
       "  <tbody>\n",
       "    <tr>\n",
       "      <th>BAC</th>\n",
       "      <td>2016-02-12</td>\n",
       "      <td>2016-06-24</td>\n",
       "    </tr>\n",
       "    <tr>\n",
       "      <th>C</th>\n",
       "      <td>2016-02-12</td>\n",
       "      <td>2016-06-24</td>\n",
       "    </tr>\n",
       "    <tr>\n",
       "      <th>GS</th>\n",
       "      <td>2016-11-09</td>\n",
       "      <td>2016-06-24</td>\n",
       "    </tr>\n",
       "    <tr>\n",
       "      <th>JPM</th>\n",
       "      <td>2016-02-12</td>\n",
       "      <td>2016-06-24</td>\n",
       "    </tr>\n",
       "    <tr>\n",
       "      <th>MS</th>\n",
       "      <td>2016-11-09</td>\n",
       "      <td>2016-06-24</td>\n",
       "    </tr>\n",
       "    <tr>\n",
       "      <th>WFC</th>\n",
       "      <td>2016-11-10</td>\n",
       "      <td>2016-06-24</td>\n",
       "    </tr>\n",
       "  </tbody>\n",
       "</table>\n",
       "</div>"
      ],
      "text/plain": [
       "           max        min\n",
       "BAC 2016-02-12 2016-06-24\n",
       "C   2016-02-12 2016-06-24\n",
       "GS  2016-11-09 2016-06-24\n",
       "JPM 2016-02-12 2016-06-24\n",
       "MS  2016-11-09 2016-06-24\n",
       "WFC 2016-11-10 2016-06-24"
      ]
     },
     "execution_count": 55,
     "metadata": {},
     "output_type": "execute_result"
    }
   ],
   "source": [
    "# your code here\n",
    "r_max = df.groupby('Company').Return.max()\n",
    "r_min = df.groupby('Company').Return.min()\n",
    "max_date = []\n",
    "min_date = []\n",
    "for i in range(len(r_max)):\n",
    "    a = df[df['Return']==r_max[i]]['Date'].values[0]\n",
    "    max_date.append(a)\n",
    "    b = df[df['Return']==r_min[i]]['Date'].values[0]\n",
    "    min_date.append(b)\n",
    "frame_dict = {'max':max_date,'min':min_date}\n",
    "frame = pd.DataFrame(frame_dict,index=['BAC','C','GS','JPM','MS','WFC'])\n",
    "frame"
   ]
  },
  {
   "cell_type": "markdown",
   "metadata": {},
   "source": [
    "** Please state here what you have noticed. Did anything significant happen in that time frame? **"
   ]
  },
  {
   "cell_type": "markdown",
   "metadata": {},
   "source": []
  },
  {
   "cell_type": "markdown",
   "metadata": {},
   "source": [
    "** Take a look at the standard deviation of the returns, which stock would you classify as the riskiest over the entire time period? **"
   ]
  },
  {
   "cell_type": "code",
   "execution_count": 59,
   "metadata": {},
   "outputs": [
    {
     "data": {
      "text/plain": [
       "Company\n",
       "BOA              0.020231\n",
       "Citi             0.020036\n",
       "GoldmanSachs     0.016893\n",
       "JPMorgan         0.015624\n",
       "MorganStanley    0.020527\n",
       "WellsFargo       0.015081\n",
       "Name: Return, dtype: float64"
      ]
     },
     "execution_count": 59,
     "metadata": {},
     "output_type": "execute_result"
    }
   ],
   "source": [
    "#  your code here\n",
    "std = df.groupby('Company')['Return'].std()\n",
    "std"
   ]
  },
  {
   "cell_type": "markdown",
   "metadata": {},
   "source": [
    "** Which would you classify as the riskiest for the year 2016? **"
   ]
  },
  {
   "cell_type": "code",
   "execution_count": 60,
   "metadata": {},
   "outputs": [
    {
     "data": {
      "text/plain": [
       "0.015080561326195126"
      ]
     },
     "execution_count": 60,
     "metadata": {},
     "output_type": "execute_result"
    }
   ],
   "source": [
    "# your code here\n",
    "std.min()\n",
    "#WellsFargo风险最大"
   ]
  },
  {
   "cell_type": "markdown",
   "metadata": {},
   "source": [
    "** Create a density plot using any library you like to visualize the previous year's return for each bank **"
   ]
  },
  {
   "cell_type": "code",
   "execution_count": 10,
   "metadata": {},
   "outputs": [
    {
     "data": {
      "text/plain": [
       "Company\n",
       "BOA              AxesSubplot(0.125,0.125;0.775x0.755)\n",
       "Citi             AxesSubplot(0.125,0.125;0.775x0.755)\n",
       "GoldmanSachs     AxesSubplot(0.125,0.125;0.775x0.755)\n",
       "JPMorgan         AxesSubplot(0.125,0.125;0.775x0.755)\n",
       "MorganStanley    AxesSubplot(0.125,0.125;0.775x0.755)\n",
       "WellsFargo       AxesSubplot(0.125,0.125;0.775x0.755)\n",
       "Name: Return, dtype: object"
      ]
     },
     "execution_count": 10,
     "metadata": {},
     "output_type": "execute_result"
    },
    {
     "data": {
      "image/png": "[encoded data removed]",
      "text/plain": [
       "<Figure size 432x288 with 1 Axes>"
      ]
     },
     "metadata": {},
     "output_type": "display_data"
    }
   ],
   "source": [
    "# your code here\n",
    "import matplotlib.pyplot as plt\n",
    "df.groupby('Company')['Return'].plot(kind='kde')"
   ]
  },
  {
   "cell_type": "markdown",
   "metadata": {},
   "source": [
    "### Moving Averages\n",
    "\n",
    "** Please derive the moving averages for these stocks in the year 2016. Use .rolling() in pandas to get the rolling average calculation. ** \n",
    "\n"
   ]
  },
  {
   "cell_type": "code",
   "execution_count": 64,
   "metadata": {},
   "outputs": [
    {
     "data": {
      "text/plain": [
       "Company        \n",
       "BOA         0           NaN\n",
       "            1           NaN\n",
       "            2     -0.011884\n",
       "            3     -0.010651\n",
       "            4     -0.028686\n",
       "                     ...   \n",
       "WellsFargo  248    0.002242\n",
       "            249    0.001794\n",
       "            250   -0.005719\n",
       "            251   -0.009968\n",
       "            252   -0.001877\n",
       "Name: Return, Length: 1518, dtype: float64"
      ]
     },
     "execution_count": 64,
     "metadata": {},
     "output_type": "execute_result"
    }
   ],
   "source": [
    "# your code here\n",
    "df.groupby('Company')['Return'].rolling(window=2).mean()"
   ]
  },
  {
   "cell_type": "markdown",
   "metadata": {},
   "source": [
    "** Plot the rolling 30 day average against the Close Price for Bank Of America's stock for the year 2016**"
   ]
  },
  {
   "cell_type": "code",
   "execution_count": 67,
   "metadata": {},
   "outputs": [
    {
     "data": {
      "text/plain": [
       "<matplotlib.axes._subplots.AxesSubplot at 0x28d2f599d68>"
      ]
     },
     "execution_count": 67,
     "metadata": {},
     "output_type": "execute_result"
    },
    {
     "data": {
      "image/png": "[encoded data removed]",
      "text/plain": [
       "<Figure size 432x288 with 1 Axes>"
      ]
     },
     "metadata": {},
     "output_type": "display_data"
    }
   ],
   "source": [
    "# your code here\n",
    "BAC['Close'].rolling(window=30).mean().plot()"
   ]
  },
  {
   "cell_type": "markdown",
   "metadata": {},
   "source": [
    "** Create a heatmap of the correlation between the stocks Close Price.**\n"
   ]
  },
  {
   "cell_type": "code",
   "execution_count": 43,
   "metadata": {
    "scrolled": true
   },
   "outputs": [
    {
     "data": {
      "text/plain": [
       "<matplotlib.axes._subplots.AxesSubplot at 0x2710a0fa898>"
      ]
     },
     "execution_count": 43,
     "metadata": {},
     "output_type": "execute_result"
    },
    {
     "data": {
      "image/png": "[encoded data removed]",
      "text/plain": [
       "<Figure size 432x288 with 2 Axes>"
      ]
     },
     "metadata": {},
     "output_type": "display_data"
    }
   ],
   "source": [
    "# your code here\n",
    "import seaborn as sns\n",
    "close_price = pd.concat([BAC.reset_index()['Close'],C.reset_index()['Close'],GS.reset_index()['Close'],JPM.reset_index()['Close'],MS.reset_index()['Close'],WFC['Close']],axis=1)\n",
    "close_price.columns=['BAC_Close','C_Close','GS_Close','JPM_Close','MS_Close','WFC_Close']\n",
    "corr = close_price.corr()\n",
    "sns.heatmap(corr)"
   ]
  },
  {
   "cell_type": "code",
   "execution_count": null,
   "metadata": {},
   "outputs": [],
   "source": []
  },
  {
   "cell_type": "markdown",
   "metadata": {},
   "source": [
    "# Part 2. \n",
    "\n",
    "Please generate some visualization using the crunchbase database you downloaded for the midterm. Feel free to use any plotting packages (in Python), and generate any types of figures. You may also comment on the generated figures, and explain any insights you have obtained. "
   ]
  },
  {
   "cell_type": "markdown",
   "metadata": {},
   "source": [
    "# Great Job!\n"
   ]
  },
  {
   "cell_type": "code",
   "execution_count": 26,
   "metadata": {},
   "outputs": [
    {
     "data": {
      "text/plain": [
       "<sqlite3.Connection at 0x217961c1c70>"
      ]
     },
     "execution_count": 26,
     "metadata": {},
     "output_type": "execute_result"
    }
   ],
   "source": [
    "import sqlite3\n",
    "# %load_ext sql\n",
    "# %sql sqlite:///crunchbase_analysis.db\n",
    "# %sql SELECT * FROM crunchbase_companies LIMIT 100\n",
    "# conn = sqlite3.connect('crunchbase_analysis.db')\n",
    "# conn"
   ]
  },
  {
   "cell_type": "code",
   "execution_count": null,
   "metadata": {
    "scrolled": true
   },
   "outputs": [],
   "source": [
    "import matplotlib.pyplot as plt\n",
    "data = pd.read_csv('companies.csv')\n",
    "x = data['funding_total_usd']\n",
    "y = data['funding_rounds']\n",
    "plt.stem(x, y)\n",
    "plt.show()"
   ]
  },
  {
   "cell_type": "code",
   "execution_count": null,
   "metadata": {},
   "outputs": [],
   "source": []
  }
 ],
 "metadata": {
  "kernelspec": {
   "display_name": "Python 3",
   "language": "python",
   "name": "python3"
  },
  "language_info": {
   "codemirror_mode": {
    "name": "ipython",
    "version": 3
   },
   "file_extension": ".py",
   "mimetype": "text/x-python",
   "name": "python",
   "nbconvert_exporter": "python",
   "pygments_lexer": "ipython3",
   "version": "3.7.2"
  }
 },
 "nbformat": 4,
 "nbformat_minor": 1
}
