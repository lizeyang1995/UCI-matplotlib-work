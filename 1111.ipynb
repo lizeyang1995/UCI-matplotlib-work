{
 "cells": [
  {
   "cell_type": "markdown",
   "metadata": {},
   "source": [
    "# Individual Assignment. Exploratory Data Analysis\n",
    "\n",
    "\n",
    "\n",
    "\n",
    "\n",
    "In part 1 of this assignment, we will focus on exploratory data analysis of stock prices. Keep in mind, this assignment is just meant to practice your visualization and pandas skills, it is not meant to be a robust financial analysis or be taken as financial advice.\n",
    "____\n",
    "** NOTE: This project is challenging and you have to look things up on your own to try to solve the tasks issued. **\n",
    "____\n",
    "We'll focus on bank stocks and see how they progressed throughout the [financial crisis](https://en.wikipedia.org/wiki/Financial_crisis_of_2007%E2%80%9308) all the way to early 2017."
   ]
  },
  {
   "cell_type": "code",
   "execution_count": 1,
   "metadata": {},
   "outputs": [],
   "source": [
    "#Daliu\n",
    "#"
   ]
  },
  {
   "cell_type": "markdown",
   "metadata": {},
   "source": [
    "# Part 1\n",
    "\n",
    "\n",
    "## Get the Data\n",
    "\n",
    "In this section we will learn how to use pandas to directly read data from Yahoo finance using pandas!\n",
    "\n",
    "First we need to start with the proper imports, which we've already laid out for you here.\n",
    "\n",
    "*Note: [You'll need to install pandas-datareader for this to work!](https://github.com/pydata/pandas-datareader) Pandas datareader allows you to [read stock information directly from the internet](http://pandas.pydata.org/pandas-docs/stable/remote_data.html) Use these links for install guidance (**pip install pandas-datareader**).*\n",
    "\n",
    "### The Imports\n"
   ]
  },
  {
   "cell_type": "code",
   "execution_count": 10,
   "metadata": {},
   "outputs": [
    {
     "name": "stdout",
     "output_type": "stream",
     "text": [
      "Requirement already satisfied: pandas-datareader in d:\\ppppython\\lib\\site-packages (0.8.1)\n",
      "Requirement already satisfied: lxml in d:\\ppppython\\lib\\site-packages (from pandas-datareader) (4.2.1)\n",
      "Requirement already satisfied: requests>=2.3.0 in d:\\ppppython\\lib\\site-packages (from pandas-datareader) (2.18.4)\n",
      "Requirement already satisfied: pandas>=0.21 in d:\\ppppython\\lib\\site-packages (from pandas-datareader) (0.25.3)\n",
      "Requirement already satisfied: chardet<3.1.0,>=3.0.2 in d:\\ppppython\\lib\\site-packages (from requests>=2.3.0->pandas-datareader) (3.0.4)\n",
      "Requirement already satisfied: idna<2.7,>=2.5 in d:\\ppppython\\lib\\site-packages (from requests>=2.3.0->pandas-datareader) (2.6)\n",
      "Requirement already satisfied: urllib3<1.23,>=1.21.1 in d:\\ppppython\\lib\\site-packages (from requests>=2.3.0->pandas-datareader) (1.22)\n",
      "Requirement already satisfied: certifi>=2017.4.17 in d:\\ppppython\\lib\\site-packages (from requests>=2.3.0->pandas-datareader) (2018.11.29)\n",
      "Requirement already satisfied: numpy>=1.13.3 in d:\\ppppython\\lib\\site-packages (from pandas>=0.21->pandas-datareader) (1.16.2)\n",
      "Requirement already satisfied: pytz>=2017.2 in d:\\ppppython\\lib\\site-packages (from pandas>=0.21->pandas-datareader) (2018.4)\n",
      "Requirement already satisfied: python-dateutil>=2.6.1 in d:\\ppppython\\lib\\site-packages (from pandas>=0.21->pandas-datareader) (2.7.3)\n",
      "Requirement already satisfied: six>=1.5 in d:\\ppppython\\lib\\site-packages (from python-dateutil>=2.6.1->pandas>=0.21->pandas-datareader) (1.12.0)\n",
      "Requirement already up-to-date: pandas in d:\\ppppython\\lib\\site-packages (0.25.3)\n",
      "Requirement already satisfied, skipping upgrade: pytz>=2017.2 in d:\\ppppython\\lib\\site-packages (from pandas) (2018.4)\n",
      "Requirement already satisfied, skipping upgrade: python-dateutil>=2.6.1 in d:\\ppppython\\lib\\site-packages (from pandas) (2.7.3)\n",
      "Requirement already satisfied, skipping upgrade: numpy>=1.13.3 in d:\\ppppython\\lib\\site-packages (from pandas) (1.16.2)\n",
      "Requirement already satisfied, skipping upgrade: six>=1.5 in d:\\ppppython\\lib\\site-packages (from python-dateutil>=2.6.1->pandas) (1.12.0)\n"
     ]
    }
   ],
   "source": [
    "!pip install pandas-datareader\n",
    "!pip install --upgrade pandas\n",
    "import pandas as pd\n",
    "import numpy as np\n",
    "pd.core.common.is_list_like = pd.api.types.is_list_like\n",
    "from pandas_datareader import data, wb\n",
    "\n",
    "import datetime\n",
    "%matplotlib inline"
   ]
  },
  {
   "cell_type": "markdown",
   "metadata": {},
   "source": [
    "## Data\n",
    "\n",
    "We need to get data using pandas datareader. We will get stock information for the following banks:\n",
    "*  Bank of America\n",
    "* CitiGroup\n",
    "* Goldman Sachs\n",
    "* JPMorgan Chase\n",
    "* Morgan Stanley\n",
    "* Wells Fargo\n",
    "\n",
    "** Figure out how to get the stock data from Jan 1st 2016 to Jan 1st 2017 for each of these banks. Set each bank to be a separate dataframe, with the variable name for that bank being its ticker symbol. This will involve a few steps:**\n",
    "1. Use datetime to set start and end datetime objects.\n",
    "2. Figure out the ticker symbol for each bank.\n",
    "2. Figure out how to use datareader to grab info on the stock.\n",
    "\n",
    "** Use [this documentation page](https://pandas-datareader.readthedocs.io/en/latest/) for hints and instructions (it should just be a matter of replacing certain values. Use google finance as a source, for example:**\n",
    "    \n",
    "    # Bank of America\n",
    "    BAC = data.DataReader(\"BAC\", 'google', start, end)\n"
   ]
  },
  {
   "cell_type": "code",
   "execution_count": 11,
   "metadata": {},
   "outputs": [],
   "source": [
    "start = datetime.datetime(2016, 1, 1)\n",
    "end = datetime.datetime(2017, 1, 1)"
   ]
  },
  {
   "cell_type": "code",
   "execution_count": 12,
   "metadata": {},
   "outputs": [],
   "source": [
    "# Bank of America\n",
    "BAC = data.DataReader(\"BAC\", 'yahoo', start, end)\n",
    "\n",
    "# CitiGroup\n",
    "C = data.DataReader(\"C\", 'yahoo', start, end)\n",
    "\n",
    "# Goldman Sachs\n",
    "GS = data.DataReader(\"GS\", 'yahoo', start, end)\n",
    "\n",
    "# JPMorgan Chase\n",
    "JPM = data.DataReader(\"JPM\", 'yahoo', start, end)\n",
    "\n",
    "# Morgan Stanley\n",
    "MS = data.DataReader(\"MS\", 'yahoo', start, end)\n",
    "\n",
    "# Wells Fargo\n",
    "WFC = data.DataReader(\"WFC\", 'yahoo', start, end)"
   ]
  },
  {
   "cell_type": "code",
   "execution_count": 13,
   "metadata": {},
   "outputs": [
    {
     "data": {
      "text/plain": [
       "2016-09-08    1\n",
       "2016-03-08    1\n",
       "2016-07-07    1\n",
       "2016-09-07    1\n",
       "2016-11-08    1\n",
       "             ..\n",
       "2016-08-09    1\n",
       "2016-09-09    1\n",
       "2016-10-10    1\n",
       "2016-11-10    1\n",
       "2016-08-08    1\n",
       "Name: Date, Length: 253, dtype: int64"
      ]
     },
     "execution_count": 13,
     "metadata": {},
     "output_type": "execute_result"
    }
   ],
   "source": [
    "WFC.reset_index(inplace=True)\n",
    "WFC[\"Date\"].value_counts()"
   ]
  },
  {
   "cell_type": "code",
   "execution_count": 14,
   "metadata": {},
   "outputs": [],
   "source": [
    "# Could also do this for a Panel Object\n",
    "df = data.DataReader(['BAC', 'C', 'GS', 'JPM', 'MS', 'WFC'],'yahoo', start, end)\n"
   ]
  },
  {
   "cell_type": "markdown",
   "metadata": {},
   "source": [
    "##### Add a Column_Company Name (this is filled out for you)"
   ]
  },
  {
   "cell_type": "code",
   "execution_count": 15,
   "metadata": {},
   "outputs": [],
   "source": [
    "BAC[\"Company\"]='BOA'\n",
    "C[\"Company\"]='Citi'\n",
    "GS[\"Company\"]='GoldmanSachs'\n",
    "JPM[\"Company\"]='JPMorgan'\n",
    "MS[\"Company\"]='MorganStanley'\n",
    "WFC[\"Company\"]='WellsFargo'"
   ]
  },
  {
   "cell_type": "code",
   "execution_count": 8,
   "metadata": {},
   "outputs": [
    {
     "data": {
      "text/plain": [
       "MultiIndex([('Adj Close', 'BAC'),\n",
       "            ('Adj Close',   'C'),\n",
       "            ('Adj Close',  'GS'),\n",
       "            ('Adj Close', 'JPM'),\n",
       "            ('Adj Close',  'MS'),\n",
       "            ('Adj Close', 'WFC'),\n",
       "            (    'Close', 'BAC'),\n",
       "            (    'Close',   'C'),\n",
       "            (    'Close',  'GS'),\n",
       "            (    'Close', 'JPM'),\n",
       "            (    'Close',  'MS'),\n",
       "            (    'Close', 'WFC'),\n",
       "            (     'High', 'BAC'),\n",
       "            (     'High',   'C'),\n",
       "            (     'High',  'GS'),\n",
       "            (     'High', 'JPM'),\n",
       "            (     'High',  'MS'),\n",
       "            (     'High', 'WFC'),\n",
       "            (      'Low', 'BAC'),\n",
       "            (      'Low',   'C'),\n",
       "            (      'Low',  'GS'),\n",
       "            (      'Low', 'JPM'),\n",
       "            (      'Low',  'MS'),\n",
       "            (      'Low', 'WFC'),\n",
       "            (     'Open', 'BAC'),\n",
       "            (     'Open',   'C'),\n",
       "            (     'Open',  'GS'),\n",
       "            (     'Open', 'JPM'),\n",
       "            (     'Open',  'MS'),\n",
       "            (     'Open', 'WFC'),\n",
       "            (   'Volume', 'BAC'),\n",
       "            (   'Volume',   'C'),\n",
       "            (   'Volume',  'GS'),\n",
       "            (   'Volume', 'JPM'),\n",
       "            (   'Volume',  'MS'),\n",
       "            (   'Volume', 'WFC')],\n",
       "           names=['Attributes', 'Symbols'])"
      ]
     },
     "execution_count": 8,
     "metadata": {},
     "output_type": "execute_result"
    }
   ],
   "source": [
    "df.head\n",
    "df.columns"
   ]
  },
  {
   "cell_type": "markdown",
   "metadata": {},
   "source": [
    "##### Draw the closing prices of BAC"
   ]
  },
  {
   "cell_type": "code",
   "execution_count": 16,
   "metadata": {},
   "outputs": [
    {
     "data": {
      "text/plain": [
       "<matplotlib.axes._subplots.AxesSubplot at 0x2667323d6a0>"
      ]
     },
     "execution_count": 16,
     "metadata": {},
     "output_type": "execute_result"
    },
    {
     "data": {
      "image/png": "[encoded data removed]",
      "text/plain": [
       "<Figure size 864x720 with 1 Axes>"
      ]
     },
     "metadata": {},
     "output_type": "display_data"
    }
   ],
   "source": [
    "import matplotlib.pyplot as plt\n",
    "\n",
    "# your code here\n",
    "BAC['Close'].plot(figsize=(12,10),title='Closing Price of BAC')"
   ]
  },
  {
   "cell_type": "markdown",
   "metadata": {},
   "source": [
    "##### Append all the data sets"
   ]
  },
  {
   "cell_type": "code",
   "execution_count": 10,
   "metadata": {},
   "outputs": [
    {
     "data": {
      "text/plain": [
       "Text(0.5, 1.0, 'Closing Price for All 6 Banks')"
      ]
     },
     "execution_count": 10,
     "metadata": {},
     "output_type": "execute_result"
    },
    {
     "data": {
      "image/png": "[encoded data removed]",
      "text/plain": [
       "<Figure size 1080x720 with 1 Axes>"
      ]
     },
     "metadata": {
      "needs_background": "light"
     },
     "output_type": "display_data"
    }
   ],
   "source": [
    "# your code here\n",
    "#all_data = pd.concat([BAC, C, GS, JPM, MS,WFC])\n",
    "#all_data = [BAC['Close'], C['Close'], GS['Close'], JPM['Close'], MS['Close'], WFC['Close']]\n",
    "#all_data\n",
    "#BAC['Close'].plot(figsize=(12,10),title='Closing Price of BAC')\n",
    "#C['Close'].plot(figsize=(12,10),title='Closing Price of BAC')\n",
    "#GS['Close'].plot(figsize=(12,10),title='Closing Price of BAC')\n",
    "#JPM['Close'].plot(figsize=(12,10),title='Closing Price of BAC')\n",
    "#MS['Close'].plot(figsize=(12,10),title='Closing Price of BAC')\n",
    "#WFC['Close'].plot(figsize=(12,10),title='Closing Price of BAC')\n",
    "plt.figure(figsize = (15,10))\n",
    "plt.plot(df['Close']['BAC'])\n",
    "plt.plot(df['Close']['C'])\n",
    "plt.plot(df['Close']['GS'])\n",
    "plt.plot(df['Close']['JPM'])\n",
    "plt.plot(df['Close']['MS'])\n",
    "plt.plot(df['Close']['WFC'])\n",
    "plt.title('Closing Price for All 6 Banks')"
   ]
  },
  {
   "cell_type": "markdown",
   "metadata": {},
   "source": [
    "##### Derive the average closing price for each bank"
   ]
  },
  {
   "cell_type": "code",
   "execution_count": 17,
   "metadata": {},
   "outputs": [
    {
     "name": "stderr",
     "output_type": "stream",
     "text": [
      "D:\\PPPPython\\lib\\site-packages\\ipykernel_launcher.py:2: FutureWarning: Sorting because non-concatenation axis is not aligned. A future version\n",
      "of pandas will change to not sort by default.\n",
      "\n",
      "To accept the future behavior, pass 'sort=False'.\n",
      "\n",
      "To retain the current behavior and silence the warning, pass 'sort=True'.\n",
      "\n",
      "  \n"
     ]
    },
    {
     "data": {
      "text/plain": [
       "Company\n",
       "BOA               15.437431\n",
       "Citi              46.407312\n",
       "GoldmanSachs     169.157747\n",
       "JPMorgan          65.624427\n",
       "MorganStanley     29.855889\n",
       "WellsFargo        48.978735\n",
       "Name: Close, dtype: float64"
      ]
     },
     "execution_count": 17,
     "metadata": {},
     "output_type": "execute_result"
    }
   ],
   "source": [
    "# your code here\n",
    "ndf = pd.concat([JPM,GS,WFC,MS,C,BAC])\n",
    "avg_price = ndf.groupby('Company').Close.mean()\n",
    "avg_price"
   ]
  },
  {
   "cell_type": "markdown",
   "metadata": {},
   "source": [
    "##### Plot the average closing price for each bank using matplotlib or plotly and cufflinks\n"
   ]
  },
  {
   "cell_type": "code",
   "execution_count": 13,
   "metadata": {},
   "outputs": [
    {
     "data": {
      "text/plain": [
       "<matplotlib.axes._subplots.AxesSubplot at 0x114de1eb8>"
      ]
     },
     "execution_count": 13,
     "metadata": {},
     "output_type": "execute_result"
    },
    {
     "data": {
      "image/png": "[encoded data removed]",
      "text/plain": [
       "<Figure size 432x288 with 1 Axes>"
      ]
     },
     "metadata": {
      "needs_background": "light"
     },
     "output_type": "display_data"
    }
   ],
   "source": [
    "# your code here\n",
    "avg_price.plot(kind = 'bar', title='Average Total Price',color = \"blue\" )"
   ]
  },
  {
   "cell_type": "markdown",
   "metadata": {},
   "source": [
    "\n",
    "** What is the max Close price for each bank's stock throughout the time period?**"
   ]
  },
  {
   "cell_type": "code",
   "execution_count": 15,
   "metadata": {},
   "outputs": [
    {
     "data": {
      "text/plain": [
       "Company\n",
       "BOA               23.160000\n",
       "Citi              61.090000\n",
       "GoldmanSachs     243.089996\n",
       "JPMorgan          87.129997\n",
       "MorganStanley     43.730000\n",
       "WellsFargo        57.290001\n",
       "Name: Close, dtype: float64"
      ]
     },
     "execution_count": 15,
     "metadata": {},
     "output_type": "execute_result"
    }
   ],
   "source": [
    "# your code here\n",
    "ndf.groupby('Company').Close.max()"
   ]
  },
  {
   "cell_type": "code",
   "execution_count": 50,
   "metadata": {},
   "outputs": [
    {
     "data": {
      "text/html": [
       "<div>\n",
       "<style scoped>\n",
       "    .dataframe tbody tr th:only-of-type {\n",
       "        vertical-align: middle;\n",
       "    }\n",
       "\n",
       "    .dataframe tbody tr th {\n",
       "        vertical-align: top;\n",
       "    }\n",
       "\n",
       "    .dataframe thead th {\n",
       "        text-align: right;\n",
       "    }\n",
       "</style>\n",
       "<table border=\"1\" class=\"dataframe\">\n",
       "  <thead>\n",
       "    <tr style=\"text-align: right;\">\n",
       "      <th></th>\n",
       "      <th>Date</th>\n",
       "      <th>High</th>\n",
       "      <th>Low</th>\n",
       "      <th>Open</th>\n",
       "      <th>Close</th>\n",
       "      <th>Volume</th>\n",
       "      <th>Adj Close</th>\n",
       "      <th>Company</th>\n",
       "      <th>returns</th>\n",
       "    </tr>\n",
       "  </thead>\n",
       "  <tbody>\n",
       "    <tr>\n",
       "      <th>0</th>\n",
       "      <td>2015-12-31</td>\n",
       "      <td>66.779999</td>\n",
       "      <td>66.000000</td>\n",
       "      <td>66.190002</td>\n",
       "      <td>66.029999</td>\n",
       "      <td>14654300.0</td>\n",
       "      <td>59.106956</td>\n",
       "      <td>JPMorgan</td>\n",
       "      <td>NaN</td>\n",
       "    </tr>\n",
       "    <tr>\n",
       "      <th>1</th>\n",
       "      <td>2016-01-04</td>\n",
       "      <td>64.059998</td>\n",
       "      <td>63.009998</td>\n",
       "      <td>63.950001</td>\n",
       "      <td>63.619999</td>\n",
       "      <td>25393200.0</td>\n",
       "      <td>57.331673</td>\n",
       "      <td>JPMorgan</td>\n",
       "      <td>-0.036499</td>\n",
       "    </tr>\n",
       "    <tr>\n",
       "      <th>2</th>\n",
       "      <td>2016-01-05</td>\n",
       "      <td>64.129997</td>\n",
       "      <td>63.040001</td>\n",
       "      <td>63.700001</td>\n",
       "      <td>63.730000</td>\n",
       "      <td>16566700.0</td>\n",
       "      <td>57.430794</td>\n",
       "      <td>JPMorgan</td>\n",
       "      <td>0.001729</td>\n",
       "    </tr>\n",
       "    <tr>\n",
       "      <th>3</th>\n",
       "      <td>2016-01-06</td>\n",
       "      <td>63.130001</td>\n",
       "      <td>62.340000</td>\n",
       "      <td>62.720001</td>\n",
       "      <td>62.810001</td>\n",
       "      <td>22961500.0</td>\n",
       "      <td>56.601742</td>\n",
       "      <td>JPMorgan</td>\n",
       "      <td>-0.014436</td>\n",
       "    </tr>\n",
       "    <tr>\n",
       "      <th>4</th>\n",
       "      <td>2016-01-07</td>\n",
       "      <td>62.000000</td>\n",
       "      <td>60.080002</td>\n",
       "      <td>61.459999</td>\n",
       "      <td>60.270000</td>\n",
       "      <td>27630900.0</td>\n",
       "      <td>54.312798</td>\n",
       "      <td>JPMorgan</td>\n",
       "      <td>-0.040439</td>\n",
       "    </tr>\n",
       "    <tr>\n",
       "      <th>...</th>\n",
       "      <td>...</td>\n",
       "      <td>...</td>\n",
       "      <td>...</td>\n",
       "      <td>...</td>\n",
       "      <td>...</td>\n",
       "      <td>...</td>\n",
       "      <td>...</td>\n",
       "      <td>...</td>\n",
       "      <td>...</td>\n",
       "    </tr>\n",
       "    <tr>\n",
       "      <th>248</th>\n",
       "      <td>2016-12-23</td>\n",
       "      <td>22.650000</td>\n",
       "      <td>22.430000</td>\n",
       "      <td>22.510000</td>\n",
       "      <td>22.600000</td>\n",
       "      <td>38187800.0</td>\n",
       "      <td>21.477459</td>\n",
       "      <td>BOA</td>\n",
       "      <td>0.002662</td>\n",
       "    </tr>\n",
       "    <tr>\n",
       "      <th>249</th>\n",
       "      <td>2016-12-27</td>\n",
       "      <td>22.740000</td>\n",
       "      <td>22.540001</td>\n",
       "      <td>22.709999</td>\n",
       "      <td>22.610001</td>\n",
       "      <td>39988600.0</td>\n",
       "      <td>21.486963</td>\n",
       "      <td>BOA</td>\n",
       "      <td>0.000442</td>\n",
       "    </tr>\n",
       "    <tr>\n",
       "      <th>250</th>\n",
       "      <td>2016-12-28</td>\n",
       "      <td>22.670000</td>\n",
       "      <td>22.260000</td>\n",
       "      <td>22.620001</td>\n",
       "      <td>22.330000</td>\n",
       "      <td>52652900.0</td>\n",
       "      <td>21.220873</td>\n",
       "      <td>BOA</td>\n",
       "      <td>-0.012384</td>\n",
       "    </tr>\n",
       "    <tr>\n",
       "      <th>251</th>\n",
       "      <td>2016-12-29</td>\n",
       "      <td>22.389999</td>\n",
       "      <td>21.770000</td>\n",
       "      <td>22.330000</td>\n",
       "      <td>22.000000</td>\n",
       "      <td>79188400.0</td>\n",
       "      <td>20.907263</td>\n",
       "      <td>BOA</td>\n",
       "      <td>-0.014778</td>\n",
       "    </tr>\n",
       "    <tr>\n",
       "      <th>252</th>\n",
       "      <td>2016-12-30</td>\n",
       "      <td>22.260000</td>\n",
       "      <td>21.950001</td>\n",
       "      <td>22.020000</td>\n",
       "      <td>22.100000</td>\n",
       "      <td>72605900.0</td>\n",
       "      <td>21.002296</td>\n",
       "      <td>BOA</td>\n",
       "      <td>0.004545</td>\n",
       "    </tr>\n",
       "  </tbody>\n",
       "</table>\n",
       "<p>1518 rows × 9 columns</p>\n",
       "</div>"
      ],
      "text/plain": [
       "          Date       High        Low       Open      Close      Volume  \\\n",
       "0   2015-12-31  66.779999  66.000000  66.190002  66.029999  14654300.0   \n",
       "1   2016-01-04  64.059998  63.009998  63.950001  63.619999  25393200.0   \n",
       "2   2016-01-05  64.129997  63.040001  63.700001  63.730000  16566700.0   \n",
       "3   2016-01-06  63.130001  62.340000  62.720001  62.810001  22961500.0   \n",
       "4   2016-01-07  62.000000  60.080002  61.459999  60.270000  27630900.0   \n",
       "..         ...        ...        ...        ...        ...         ...   \n",
       "248 2016-12-23  22.650000  22.430000  22.510000  22.600000  38187800.0   \n",
       "249 2016-12-27  22.740000  22.540001  22.709999  22.610001  39988600.0   \n",
       "250 2016-12-28  22.670000  22.260000  22.620001  22.330000  52652900.0   \n",
       "251 2016-12-29  22.389999  21.770000  22.330000  22.000000  79188400.0   \n",
       "252 2016-12-30  22.260000  21.950001  22.020000  22.100000  72605900.0   \n",
       "\n",
       "     Adj Close   Company   returns  \n",
       "0    59.106956  JPMorgan       NaN  \n",
       "1    57.331673  JPMorgan -0.036499  \n",
       "2    57.430794  JPMorgan  0.001729  \n",
       "3    56.601742  JPMorgan -0.014436  \n",
       "4    54.312798  JPMorgan -0.040439  \n",
       "..         ...       ...       ...  \n",
       "248  21.477459       BOA  0.002662  \n",
       "249  21.486963       BOA  0.000442  \n",
       "250  21.220873       BOA -0.012384  \n",
       "251  20.907263       BOA -0.014778  \n",
       "252  21.002296       BOA  0.004545  \n",
       "\n",
       "[1518 rows x 9 columns]"
      ]
     },
     "execution_count": 50,
     "metadata": {},
     "output_type": "execute_result"
    }
   ],
   "source": [
    "ndf = pd.concat([JPM.reset_index(),GS.reset_index(),WFC,MS.reset_index(),C.reset_index(),BAC.reset_index()])\n",
    "ndf['returns']=ndf.groupby('Company').Close.pct_change()\n",
    "ndf"
   ]
  },
  {
   "cell_type": "code",
   "execution_count": 105,
   "metadata": {},
   "outputs": [
    {
     "data": {
      "text/html": [
       "<div>\n",
       "<style scoped>\n",
       "    .dataframe tbody tr th:only-of-type {\n",
       "        vertical-align: middle;\n",
       "    }\n",
       "\n",
       "    .dataframe tbody tr th {\n",
       "        vertical-align: top;\n",
       "    }\n",
       "\n",
       "    .dataframe thead th {\n",
       "        text-align: right;\n",
       "    }\n",
       "</style>\n",
       "<table border=\"1\" class=\"dataframe\">\n",
       "  <thead>\n",
       "    <tr style=\"text-align: right;\">\n",
       "      <th></th>\n",
       "      <th>Date</th>\n",
       "      <th>returns</th>\n",
       "      <th>Date</th>\n",
       "      <th>returns</th>\n",
       "    </tr>\n",
       "    <tr>\n",
       "      <th>Company</th>\n",
       "      <th></th>\n",
       "      <th></th>\n",
       "      <th></th>\n",
       "      <th></th>\n",
       "    </tr>\n",
       "  </thead>\n",
       "  <tbody>\n",
       "    <tr>\n",
       "      <th>JPMorgan</th>\n",
       "      <td>2016-02-12</td>\n",
       "      <td>0.083286</td>\n",
       "      <td>2016-06-24</td>\n",
       "      <td>-0.069477</td>\n",
       "    </tr>\n",
       "    <tr>\n",
       "      <th>GoldmanSachs</th>\n",
       "      <td>2016-11-09</td>\n",
       "      <td>0.058872</td>\n",
       "      <td>2016-06-24</td>\n",
       "      <td>-0.070745</td>\n",
       "    </tr>\n",
       "    <tr>\n",
       "      <th>WellsFargo</th>\n",
       "      <td>2016-11-10</td>\n",
       "      <td>0.075849</td>\n",
       "      <td>2016-06-24</td>\n",
       "      <td>-0.045919</td>\n",
       "    </tr>\n",
       "    <tr>\n",
       "      <th>MorganStanley</th>\n",
       "      <td>2016-11-09</td>\n",
       "      <td>0.070968</td>\n",
       "      <td>2016-06-24</td>\n",
       "      <td>-0.101502</td>\n",
       "    </tr>\n",
       "    <tr>\n",
       "      <th>Citi</th>\n",
       "      <td>2016-02-12</td>\n",
       "      <td>0.073185</td>\n",
       "      <td>2016-06-24</td>\n",
       "      <td>-0.093567</td>\n",
       "    </tr>\n",
       "    <tr>\n",
       "      <th>BOA</th>\n",
       "      <td>2016-02-12</td>\n",
       "      <td>0.070789</td>\n",
       "      <td>2016-06-24</td>\n",
       "      <td>-0.074074</td>\n",
       "    </tr>\n",
       "  </tbody>\n",
       "</table>\n",
       "</div>"
      ],
      "text/plain": [
       "                    Date   returns       Date   returns\n",
       "Company                                                \n",
       "JPMorgan      2016-02-12  0.083286 2016-06-24 -0.069477\n",
       "GoldmanSachs  2016-11-09  0.058872 2016-06-24 -0.070745\n",
       "WellsFargo    2016-11-10  0.075849 2016-06-24 -0.045919\n",
       "MorganStanley 2016-11-09  0.070968 2016-06-24 -0.101502\n",
       "Citi          2016-02-12  0.073185 2016-06-24 -0.093567\n",
       "BOA           2016-02-12  0.070789 2016-06-24 -0.074074"
      ]
     },
     "execution_count": 105,
     "metadata": {},
     "output_type": "execute_result"
    }
   ],
   "source": [
    "best = ndf.loc[ndf.groupby('Company').returns.transform(max) == ndf['returns'],['Company','Date','returns']].reset_index()\n",
    "worst = ndf.loc[ndf.groupby('Company').returns.transform(min) == ndf['returns'],['Company','Date','returns']].reset_index()\n",
    "con = pd.concat([best, worst],axis=1)\n",
    "# best = ndf.groupby('Company').returns.max()\n",
    "# worst = ndf.groupby('Company').returns.min()\n",
    "# a = ndf.loc[ndf['returns']==best,:]\n",
    "# b = ndf.loc[ndf['returns']==worst,:]\n",
    "# pd.concat([a, b],axis=0)\n",
    "# for i in best:\n",
    "#     print(i)\n",
    "# con.reindex(con.Company)\n",
    "# con = con.drop(columns=['Company'])\n",
    "con2 = con.iloc[:,[1,2,3,6,7]]\n",
    "con3 = con2.set_index('Company')\n",
    "con3"
   ]
  },
  {
   "cell_type": "markdown",
   "metadata": {},
   "source": [
    "** Create a new dataframe called returns. This dataframe will contain the returns for each bank's stock. returns are typically defined by:**\n",
    "\n",
    "$$r_t = \\frac{p_t - p_{t-1}}{p_{t-1}} = \\frac{p_t}{p_{t-1}} - 1$$"
   ]
  },
  {
   "cell_type": "markdown",
   "metadata": {},
   "source": [
    "** We can use pandas pct_change() method on the Close column to create a new dataframe representing this return value. Use .groupby().**"
   ]
  },
  {
   "cell_type": "code",
   "execution_count": 18,
   "metadata": {},
   "outputs": [
    {
     "data": {
      "text/html": [
       "<div>\n",
       "<style scoped>\n",
       "    .dataframe tbody tr th:only-of-type {\n",
       "        vertical-align: middle;\n",
       "    }\n",
       "\n",
       "    .dataframe tbody tr th {\n",
       "        vertical-align: top;\n",
       "    }\n",
       "\n",
       "    .dataframe thead th {\n",
       "        text-align: right;\n",
       "    }\n",
       "</style>\n",
       "<table border=\"1\" class=\"dataframe\">\n",
       "  <thead>\n",
       "    <tr style=\"text-align: right;\">\n",
       "      <th></th>\n",
       "      <th>Adj Close</th>\n",
       "      <th>Close</th>\n",
       "      <th>Company</th>\n",
       "      <th>Date</th>\n",
       "      <th>High</th>\n",
       "      <th>Low</th>\n",
       "      <th>Open</th>\n",
       "      <th>Volume</th>\n",
       "      <th>returns</th>\n",
       "    </tr>\n",
       "  </thead>\n",
       "  <tbody>\n",
       "    <tr>\n",
       "      <th>2015-12-31</th>\n",
       "      <td>59.106956</td>\n",
       "      <td>66.029999</td>\n",
       "      <td>JPMorgan</td>\n",
       "      <td>NaT</td>\n",
       "      <td>66.779999</td>\n",
       "      <td>66.000000</td>\n",
       "      <td>66.190002</td>\n",
       "      <td>14654300.0</td>\n",
       "      <td>NaN</td>\n",
       "    </tr>\n",
       "    <tr>\n",
       "      <th>2016-01-04</th>\n",
       "      <td>57.331673</td>\n",
       "      <td>63.619999</td>\n",
       "      <td>JPMorgan</td>\n",
       "      <td>NaT</td>\n",
       "      <td>64.059998</td>\n",
       "      <td>63.009998</td>\n",
       "      <td>63.950001</td>\n",
       "      <td>25393200.0</td>\n",
       "      <td>-0.036499</td>\n",
       "    </tr>\n",
       "    <tr>\n",
       "      <th>2016-01-05</th>\n",
       "      <td>57.430794</td>\n",
       "      <td>63.730000</td>\n",
       "      <td>JPMorgan</td>\n",
       "      <td>NaT</td>\n",
       "      <td>64.129997</td>\n",
       "      <td>63.040001</td>\n",
       "      <td>63.700001</td>\n",
       "      <td>16566700.0</td>\n",
       "      <td>0.001729</td>\n",
       "    </tr>\n",
       "    <tr>\n",
       "      <th>2016-01-06</th>\n",
       "      <td>56.601742</td>\n",
       "      <td>62.810001</td>\n",
       "      <td>JPMorgan</td>\n",
       "      <td>NaT</td>\n",
       "      <td>63.130001</td>\n",
       "      <td>62.340000</td>\n",
       "      <td>62.720001</td>\n",
       "      <td>22961500.0</td>\n",
       "      <td>-0.014436</td>\n",
       "    </tr>\n",
       "    <tr>\n",
       "      <th>2016-01-07</th>\n",
       "      <td>54.312798</td>\n",
       "      <td>60.270000</td>\n",
       "      <td>JPMorgan</td>\n",
       "      <td>NaT</td>\n",
       "      <td>62.000000</td>\n",
       "      <td>60.080002</td>\n",
       "      <td>61.459999</td>\n",
       "      <td>27630900.0</td>\n",
       "      <td>-0.040439</td>\n",
       "    </tr>\n",
       "    <tr>\n",
       "      <th>...</th>\n",
       "      <td>...</td>\n",
       "      <td>...</td>\n",
       "      <td>...</td>\n",
       "      <td>...</td>\n",
       "      <td>...</td>\n",
       "      <td>...</td>\n",
       "      <td>...</td>\n",
       "      <td>...</td>\n",
       "      <td>...</td>\n",
       "    </tr>\n",
       "    <tr>\n",
       "      <th>2016-12-23</th>\n",
       "      <td>21.477459</td>\n",
       "      <td>22.600000</td>\n",
       "      <td>BOA</td>\n",
       "      <td>NaT</td>\n",
       "      <td>22.650000</td>\n",
       "      <td>22.430000</td>\n",
       "      <td>22.510000</td>\n",
       "      <td>38187800.0</td>\n",
       "      <td>0.002662</td>\n",
       "    </tr>\n",
       "    <tr>\n",
       "      <th>2016-12-27</th>\n",
       "      <td>21.486963</td>\n",
       "      <td>22.610001</td>\n",
       "      <td>BOA</td>\n",
       "      <td>NaT</td>\n",
       "      <td>22.740000</td>\n",
       "      <td>22.540001</td>\n",
       "      <td>22.709999</td>\n",
       "      <td>39988600.0</td>\n",
       "      <td>0.000442</td>\n",
       "    </tr>\n",
       "    <tr>\n",
       "      <th>2016-12-28</th>\n",
       "      <td>21.220873</td>\n",
       "      <td>22.330000</td>\n",
       "      <td>BOA</td>\n",
       "      <td>NaT</td>\n",
       "      <td>22.670000</td>\n",
       "      <td>22.260000</td>\n",
       "      <td>22.620001</td>\n",
       "      <td>52652900.0</td>\n",
       "      <td>-0.012384</td>\n",
       "    </tr>\n",
       "    <tr>\n",
       "      <th>2016-12-29</th>\n",
       "      <td>20.907263</td>\n",
       "      <td>22.000000</td>\n",
       "      <td>BOA</td>\n",
       "      <td>NaT</td>\n",
       "      <td>22.389999</td>\n",
       "      <td>21.770000</td>\n",
       "      <td>22.330000</td>\n",
       "      <td>79188400.0</td>\n",
       "      <td>-0.014778</td>\n",
       "    </tr>\n",
       "    <tr>\n",
       "      <th>2016-12-30</th>\n",
       "      <td>21.002296</td>\n",
       "      <td>22.100000</td>\n",
       "      <td>BOA</td>\n",
       "      <td>NaT</td>\n",
       "      <td>22.260000</td>\n",
       "      <td>21.950001</td>\n",
       "      <td>22.020000</td>\n",
       "      <td>72605900.0</td>\n",
       "      <td>0.004545</td>\n",
       "    </tr>\n",
       "  </tbody>\n",
       "</table>\n",
       "<p>1518 rows × 9 columns</p>\n",
       "</div>"
      ],
      "text/plain": [
       "            Adj Close      Close   Company Date       High        Low  \\\n",
       "2015-12-31  59.106956  66.029999  JPMorgan  NaT  66.779999  66.000000   \n",
       "2016-01-04  57.331673  63.619999  JPMorgan  NaT  64.059998  63.009998   \n",
       "2016-01-05  57.430794  63.730000  JPMorgan  NaT  64.129997  63.040001   \n",
       "2016-01-06  56.601742  62.810001  JPMorgan  NaT  63.130001  62.340000   \n",
       "2016-01-07  54.312798  60.270000  JPMorgan  NaT  62.000000  60.080002   \n",
       "...               ...        ...       ...  ...        ...        ...   \n",
       "2016-12-23  21.477459  22.600000       BOA  NaT  22.650000  22.430000   \n",
       "2016-12-27  21.486963  22.610001       BOA  NaT  22.740000  22.540001   \n",
       "2016-12-28  21.220873  22.330000       BOA  NaT  22.670000  22.260000   \n",
       "2016-12-29  20.907263  22.000000       BOA  NaT  22.389999  21.770000   \n",
       "2016-12-30  21.002296  22.100000       BOA  NaT  22.260000  21.950001   \n",
       "\n",
       "                 Open      Volume   returns  \n",
       "2015-12-31  66.190002  14654300.0       NaN  \n",
       "2016-01-04  63.950001  25393200.0 -0.036499  \n",
       "2016-01-05  63.700001  16566700.0  0.001729  \n",
       "2016-01-06  62.720001  22961500.0 -0.014436  \n",
       "2016-01-07  61.459999  27630900.0 -0.040439  \n",
       "...               ...         ...       ...  \n",
       "2016-12-23  22.510000  38187800.0  0.002662  \n",
       "2016-12-27  22.709999  39988600.0  0.000442  \n",
       "2016-12-28  22.620001  52652900.0 -0.012384  \n",
       "2016-12-29  22.330000  79188400.0 -0.014778  \n",
       "2016-12-30  22.020000  72605900.0  0.004545  \n",
       "\n",
       "[1518 rows x 9 columns]"
      ]
     },
     "execution_count": 18,
     "metadata": {},
     "output_type": "execute_result"
    }
   ],
   "source": [
    "# your code here\n",
    "ndf['returns']=ndf.groupby('Company').Close.pct_change()\n",
    "ndf"
   ]
  },
  {
   "cell_type": "markdown",
   "metadata": {},
   "source": [
    "** Using this returns DataFrame, figure out on what dates each bank stock had the best and worst single day returns. Did anything significant happen that day?**"
   ]
  },
  {
   "cell_type": "code",
   "execution_count": 19,
   "metadata": {},
   "outputs": [],
   "source": [
    "# your code here\n"
   ]
  },
  {
   "cell_type": "markdown",
   "metadata": {},
   "source": [
    "** Please state here what you have noticed. Did anything significant happen in that time frame? **"
   ]
  },
  {
   "cell_type": "markdown",
   "metadata": {},
   "source": []
  },
  {
   "cell_type": "markdown",
   "metadata": {},
   "source": [
    "** Take a look at the standard deviation of the returns, which stock would you classify as the riskiest over the entire time period? **"
   ]
  },
  {
   "cell_type": "code",
   "execution_count": 20,
   "metadata": {},
   "outputs": [
    {
     "data": {
      "text/plain": [
       "Company\n",
       "BOA              0.020209\n",
       "Citi             0.020060\n",
       "GoldmanSachs     0.016886\n",
       "JPMorgan         0.015472\n",
       "MorganStanley    0.020555\n",
       "WellsFargo       0.015015\n",
       "Name: returns, dtype: float64"
      ]
     },
     "execution_count": 20,
     "metadata": {},
     "output_type": "execute_result"
    }
   ],
   "source": [
    "#  your code here\n",
    "std = ndf.groupby('Company').returns.std()\n",
    "std"
   ]
  },
  {
   "cell_type": "markdown",
   "metadata": {},
   "source": [
    "** Which would you classify as the riskiest for the year 2016? **"
   ]
  },
  {
   "cell_type": "code",
   "execution_count": 21,
   "metadata": {},
   "outputs": [
    {
     "data": {
      "text/plain": [
       "0.020554510109818114"
      ]
     },
     "execution_count": 21,
     "metadata": {},
     "output_type": "execute_result"
    }
   ],
   "source": [
    "# your code here\n",
    "std.max()"
   ]
  },
  {
   "cell_type": "code",
   "execution_count": 22,
   "metadata": {},
   "outputs": [],
   "source": [
    "# MorganStanley is the riskest because its std is the highest "
   ]
  },
  {
   "cell_type": "markdown",
   "metadata": {},
   "source": [
    "** Create a density plot using any library you like to visualize the previous year's return for each bank **"
   ]
  },
  {
   "cell_type": "code",
   "execution_count": 34,
   "metadata": {},
   "outputs": [
    {
     "data": {
      "text/plain": [
       "Company\n",
       "BOA              AxesSubplot(0.125,0.125;0.775x0.755)\n",
       "Citi             AxesSubplot(0.125,0.125;0.775x0.755)\n",
       "GoldmanSachs     AxesSubplot(0.125,0.125;0.775x0.755)\n",
       "JPMorgan         AxesSubplot(0.125,0.125;0.775x0.755)\n",
       "MorganStanley    AxesSubplot(0.125,0.125;0.775x0.755)\n",
       "WellsFargo       AxesSubplot(0.125,0.125;0.775x0.755)\n",
       "Name: returns, dtype: object"
      ]
     },
     "execution_count": 34,
     "metadata": {},
     "output_type": "execute_result"
    },
    {
     "data": {
      "image/png": "[encoded data removed]",
      "text/plain": [
       "<Figure size 432x288 with 1 Axes>"
      ]
     },
     "metadata": {},
     "output_type": "display_data"
    }
   ],
   "source": [
    "# your code here\n",
    "ndf.groupby('Company')['returns'].plot(kind='kde')"
   ]
  },
  {
   "cell_type": "markdown",
   "metadata": {},
   "source": [
    "### Moving Averages\n",
    "\n",
    "** Please derive the moving averages for these stocks in the year 2016. Use .rolling() in pandas to get the rolling average calculation. ** \n",
    "\n"
   ]
  },
  {
   "cell_type": "code",
   "execution_count": 25,
   "metadata": {},
   "outputs": [
    {
     "data": {
      "text/plain": [
       "Company                        \n",
       "BOA         2016-01-04 00:00:00          NaN\n",
       "            2016-01-05 00:00:00          NaN\n",
       "            2016-01-06 00:00:00          NaN\n",
       "            2016-01-07 00:00:00          NaN\n",
       "            2016-01-08 00:00:00          NaN\n",
       "                                     ...    \n",
       "WellsFargo  247                    54.171000\n",
       "            248                    54.311667\n",
       "            249                    54.381667\n",
       "            250                    54.456667\n",
       "            251                    54.571000\n",
       "Name: Close, Length: 1512, dtype: float64"
      ]
     },
     "execution_count": 25,
     "metadata": {},
     "output_type": "execute_result"
    }
   ],
   "source": [
    "# your code here\n",
    "ndf.groupby('Company')['Close'].rolling(window = 30).mean()"
   ]
  },
  {
   "cell_type": "markdown",
   "metadata": {},
   "source": [
    "** Plot the rolling 30 day average against the Close Price for Bank Of America's stock for the year 2016**"
   ]
  },
  {
   "cell_type": "code",
   "execution_count": 26,
   "metadata": {},
   "outputs": [
    {
     "data": {
      "text/plain": [
       "<matplotlib.axes._subplots.AxesSubplot at 0x1a18128e10>"
      ]
     },
     "execution_count": 26,
     "metadata": {},
     "output_type": "execute_result"
    },
    {
     "data": {
      "image/png": "[encoded data removed]",
      "text/plain": [
       "<Figure size 432x288 with 1 Axes>"
      ]
     },
     "metadata": {
      "needs_background": "light"
     },
     "output_type": "display_data"
    }
   ],
   "source": [
    "# your code here\n",
    "BAC['Close'].rolling(window=30).mean().plot()"
   ]
  },
  {
   "cell_type": "markdown",
   "metadata": {},
   "source": [
    "** Create a heatmap of the correlation between the stocks Close Price.**\n"
   ]
  },
  {
   "cell_type": "code",
   "execution_count": 27,
   "metadata": {},
   "outputs": [
    {
     "data": {
      "text/plain": [
       "<matplotlib.axes._subplots.AxesSubplot at 0x1a18661940>"
      ]
     },
     "execution_count": 27,
     "metadata": {},
     "output_type": "execute_result"
    },
    {
     "data": {
      "image/png": "[encoded data removed]",
      "text/plain": [
       "<Figure size 432x288 with 2 Axes>"
      ]
     },
     "metadata": {
      "needs_background": "light"
     },
     "output_type": "display_data"
    }
   ],
   "source": [
    "# your code here\n",
    "import seaborn as sb\n",
    "sb.heatmap(df['Close'].corr(),annot=True)"
   ]
  },
  {
   "cell_type": "markdown",
   "metadata": {},
   "source": [
    "# Part 2. \n",
    "\n",
    "Please generate some visualization using the crunchbase database you downloaded for the midterm. Feel free to use any plotting packages (in Python), and generate any types of figures. You may also comment on the generated figures, and explain any insights you have obtained. "
   ]
  },
  {
   "cell_type": "markdown",
   "metadata": {},
   "source": [
    "# Great Job!\n"
   ]
  },
  {
   "cell_type": "code",
   "execution_count": 2,
   "metadata": {},
   "outputs": [
    {
     "data": {
      "text/html": [
       "<div>\n",
       "<style scoped>\n",
       "    .dataframe tbody tr th:only-of-type {\n",
       "        vertical-align: middle;\n",
       "    }\n",
       "\n",
       "    .dataframe tbody tr th {\n",
       "        vertical-align: top;\n",
       "    }\n",
       "\n",
       "    .dataframe thead th {\n",
       "        text-align: right;\n",
       "    }\n",
       "</style>\n",
       "<table border=\"1\" class=\"dataframe\">\n",
       "  <thead>\n",
       "    <tr style=\"text-align: right;\">\n",
       "      <th></th>\n",
       "      <th>permalink</th>\n",
       "      <th>name</th>\n",
       "      <th>homepage_url</th>\n",
       "      <th>category_code</th>\n",
       "      <th>funding_total_usd</th>\n",
       "      <th>status</th>\n",
       "      <th>country_code</th>\n",
       "      <th>state_code</th>\n",
       "      <th>region</th>\n",
       "      <th>city</th>\n",
       "      <th>funding_rounds</th>\n",
       "      <th>founded_at</th>\n",
       "      <th>founded_at_clean</th>\n",
       "      <th>id</th>\n",
       "    </tr>\n",
       "  </thead>\n",
       "  <tbody>\n",
       "    <tr>\n",
       "      <th>0</th>\n",
       "      <td>/company/8868</td>\n",
       "      <td>8868</td>\n",
       "      <td>http://www.8868.cn</td>\n",
       "      <td>None</td>\n",
       "      <td>NaN</td>\n",
       "      <td>operating</td>\n",
       "      <td>None</td>\n",
       "      <td>None</td>\n",
       "      <td>unknown</td>\n",
       "      <td>None</td>\n",
       "      <td>1.0</td>\n",
       "      <td>None</td>\n",
       "      <td>None</td>\n",
       "      <td>1</td>\n",
       "    </tr>\n",
       "    <tr>\n",
       "      <th>1</th>\n",
       "      <td>/company/21e6</td>\n",
       "      <td>2.10E+07</td>\n",
       "      <td>None</td>\n",
       "      <td>None</td>\n",
       "      <td>5050000.0</td>\n",
       "      <td>operating</td>\n",
       "      <td>USA</td>\n",
       "      <td>CA</td>\n",
       "      <td>SF Bay</td>\n",
       "      <td>San Francisco</td>\n",
       "      <td>1.0</td>\n",
       "      <td>1/1/13</td>\n",
       "      <td>2013-01-01</td>\n",
       "      <td>2</td>\n",
       "    </tr>\n",
       "    <tr>\n",
       "      <th>2</th>\n",
       "      <td>/company/club-domains</td>\n",
       "      <td>.Club Domains</td>\n",
       "      <td>http://dotclub.com</td>\n",
       "      <td>software</td>\n",
       "      <td>7000000.0</td>\n",
       "      <td>operating</td>\n",
       "      <td>USA</td>\n",
       "      <td>FL</td>\n",
       "      <td>Fort Lauderdale</td>\n",
       "      <td>Oakland Park</td>\n",
       "      <td>1.0</td>\n",
       "      <td>10/10/11</td>\n",
       "      <td>2011-10-10</td>\n",
       "      <td>3</td>\n",
       "    </tr>\n",
       "    <tr>\n",
       "      <th>3</th>\n",
       "      <td>/company/fox-networks</td>\n",
       "      <td>.Fox Networks</td>\n",
       "      <td>http://www.dotfox.com</td>\n",
       "      <td>advertising</td>\n",
       "      <td>4912394.0</td>\n",
       "      <td>closed</td>\n",
       "      <td>ARG</td>\n",
       "      <td>None</td>\n",
       "      <td>Buenos Aires</td>\n",
       "      <td>Buenos Aires</td>\n",
       "      <td>1.0</td>\n",
       "      <td>None</td>\n",
       "      <td>None</td>\n",
       "      <td>4</td>\n",
       "    </tr>\n",
       "    <tr>\n",
       "      <th>4</th>\n",
       "      <td>/company/a-list-games</td>\n",
       "      <td>[a]list games</td>\n",
       "      <td>http://www.alistgames.com</td>\n",
       "      <td>games_video</td>\n",
       "      <td>9300000.0</td>\n",
       "      <td>operating</td>\n",
       "      <td>None</td>\n",
       "      <td>None</td>\n",
       "      <td>unknown</td>\n",
       "      <td>None</td>\n",
       "      <td>1.0</td>\n",
       "      <td>None</td>\n",
       "      <td>None</td>\n",
       "      <td>5</td>\n",
       "    </tr>\n",
       "  </tbody>\n",
       "</table>\n",
       "</div>"
      ],
      "text/plain": [
       "               permalink           name               homepage_url  \\\n",
       "0          /company/8868           8868         http://www.8868.cn   \n",
       "1          /company/21e6       2.10E+07                       None   \n",
       "2  /company/club-domains  .Club Domains         http://dotclub.com   \n",
       "3  /company/fox-networks  .Fox Networks      http://www.dotfox.com   \n",
       "4  /company/a-list-games  [a]list games  http://www.alistgames.com   \n",
       "\n",
       "  category_code  funding_total_usd     status country_code state_code  \\\n",
       "0          None                NaN  operating         None       None   \n",
       "1          None          5050000.0  operating          USA         CA   \n",
       "2      software          7000000.0  operating          USA         FL   \n",
       "3   advertising          4912394.0     closed          ARG       None   \n",
       "4   games_video          9300000.0  operating         None       None   \n",
       "\n",
       "            region           city  funding_rounds founded_at founded_at_clean  \\\n",
       "0          unknown           None             1.0       None             None   \n",
       "1           SF Bay  San Francisco             1.0     1/1/13       2013-01-01   \n",
       "2  Fort Lauderdale   Oakland Park             1.0   10/10/11       2011-10-10   \n",
       "3     Buenos Aires   Buenos Aires             1.0       None             None   \n",
       "4          unknown           None             1.0       None             None   \n",
       "\n",
       "   id  \n",
       "0   1  \n",
       "1   2  \n",
       "2   3  \n",
       "3   4  \n",
       "4   5  "
      ]
     },
     "execution_count": 2,
     "metadata": {},
     "output_type": "execute_result"
    }
   ],
   "source": [
    "import sqlite3\n",
    "import pandas as pd\n",
    "conn = sqlite3.connect(\"crunchbase_analysis.db\")\n",
    "df1 = pd.read_sql_query(\"SELECT * FROM crunchbase_companies\", conn)\n",
    "df1.head()"
   ]
  },
  {
   "cell_type": "code",
   "execution_count": 3,
   "metadata": {},
   "outputs": [
    {
     "data": {
      "text/html": [
       "<div>\n",
       "<style scoped>\n",
       "    .dataframe tbody tr th:only-of-type {\n",
       "        vertical-align: middle;\n",
       "    }\n",
       "\n",
       "    .dataframe tbody tr th {\n",
       "        vertical-align: top;\n",
       "    }\n",
       "\n",
       "    .dataframe thead th {\n",
       "        text-align: right;\n",
       "    }\n",
       "</style>\n",
       "<table border=\"1\" class=\"dataframe\">\n",
       "  <thead>\n",
       "    <tr style=\"text-align: right;\">\n",
       "      <th></th>\n",
       "      <th>company_permalink</th>\n",
       "      <th>company_name</th>\n",
       "      <th>company_category_code</th>\n",
       "      <th>company_country_code</th>\n",
       "      <th>company_state_code</th>\n",
       "      <th>company_region</th>\n",
       "      <th>company_city</th>\n",
       "      <th>investor_permalink</th>\n",
       "      <th>investor_name</th>\n",
       "      <th>investor_category_code</th>\n",
       "      <th>...</th>\n",
       "      <th>investor_state_code</th>\n",
       "      <th>investor_region</th>\n",
       "      <th>investor_city</th>\n",
       "      <th>funding_round_type</th>\n",
       "      <th>funded_at</th>\n",
       "      <th>funded_month</th>\n",
       "      <th>funded_quarter</th>\n",
       "      <th>funded_year</th>\n",
       "      <th>raised_amount_usd</th>\n",
       "      <th>id</th>\n",
       "    </tr>\n",
       "  </thead>\n",
       "  <tbody>\n",
       "    <tr>\n",
       "      <th>0</th>\n",
       "      <td>/company/tokita-investments</td>\n",
       "      <td>Tokita Investments</td>\n",
       "      <td>consulting</td>\n",
       "      <td>JPN</td>\n",
       "      <td>None</td>\n",
       "      <td>TBD</td>\n",
       "      <td>Okinawa Ken</td>\n",
       "      <td>/company/01startups</td>\n",
       "      <td>01Startups</td>\n",
       "      <td>None</td>\n",
       "      <td>...</td>\n",
       "      <td>None</td>\n",
       "      <td>unknown</td>\n",
       "      <td>None</td>\n",
       "      <td>angel</td>\n",
       "      <td>9/26/13</td>\n",
       "      <td>2013-09</td>\n",
       "      <td>2013-Q3</td>\n",
       "      <td>2013.0</td>\n",
       "      <td>5000.0</td>\n",
       "      <td>1</td>\n",
       "    </tr>\n",
       "    <tr>\n",
       "      <th>1</th>\n",
       "      <td>/company/advercar</td>\n",
       "      <td>AdverCar</td>\n",
       "      <td>advertising</td>\n",
       "      <td>USA</td>\n",
       "      <td>CA</td>\n",
       "      <td>SF Bay</td>\n",
       "      <td>San Francisco</td>\n",
       "      <td>/company/1-800-flowers-com</td>\n",
       "      <td>1-800-FLOWERS.COM</td>\n",
       "      <td>ecommerce</td>\n",
       "      <td>...</td>\n",
       "      <td>NY</td>\n",
       "      <td>New York</td>\n",
       "      <td>New York</td>\n",
       "      <td>series-a</td>\n",
       "      <td>10/30/12</td>\n",
       "      <td>2012-10</td>\n",
       "      <td>2012-Q4</td>\n",
       "      <td>2012.0</td>\n",
       "      <td>2000000.0</td>\n",
       "      <td>2</td>\n",
       "    </tr>\n",
       "    <tr>\n",
       "      <th>2</th>\n",
       "      <td>/company/launchgram</td>\n",
       "      <td>LaunchGram</td>\n",
       "      <td>news</td>\n",
       "      <td>USA</td>\n",
       "      <td>CA</td>\n",
       "      <td>SF Bay</td>\n",
       "      <td>Mountain View</td>\n",
       "      <td>/company/10xelerator</td>\n",
       "      <td>10Xelerator</td>\n",
       "      <td>finance</td>\n",
       "      <td>...</td>\n",
       "      <td>OH</td>\n",
       "      <td>Columbus</td>\n",
       "      <td>Columbus</td>\n",
       "      <td>other</td>\n",
       "      <td>1/23/12</td>\n",
       "      <td>2012-01</td>\n",
       "      <td>2012-Q1</td>\n",
       "      <td>2012.0</td>\n",
       "      <td>20000.0</td>\n",
       "      <td>3</td>\n",
       "    </tr>\n",
       "    <tr>\n",
       "      <th>3</th>\n",
       "      <td>/company/utap</td>\n",
       "      <td>uTaP</td>\n",
       "      <td>messaging</td>\n",
       "      <td>USA</td>\n",
       "      <td>None</td>\n",
       "      <td>United States - Other</td>\n",
       "      <td>None</td>\n",
       "      <td>/company/10xelerator</td>\n",
       "      <td>10Xelerator</td>\n",
       "      <td>finance</td>\n",
       "      <td>...</td>\n",
       "      <td>OH</td>\n",
       "      <td>Columbus</td>\n",
       "      <td>Columbus</td>\n",
       "      <td>other</td>\n",
       "      <td>1/1/12</td>\n",
       "      <td>2012-01</td>\n",
       "      <td>2012-Q1</td>\n",
       "      <td>2012.0</td>\n",
       "      <td>20000.0</td>\n",
       "      <td>4</td>\n",
       "    </tr>\n",
       "    <tr>\n",
       "      <th>4</th>\n",
       "      <td>/company/zoopshop</td>\n",
       "      <td>ZoopShop</td>\n",
       "      <td>software</td>\n",
       "      <td>USA</td>\n",
       "      <td>OH</td>\n",
       "      <td>Columbus</td>\n",
       "      <td>columbus</td>\n",
       "      <td>/company/10xelerator</td>\n",
       "      <td>10Xelerator</td>\n",
       "      <td>finance</td>\n",
       "      <td>...</td>\n",
       "      <td>OH</td>\n",
       "      <td>Columbus</td>\n",
       "      <td>Columbus</td>\n",
       "      <td>angel</td>\n",
       "      <td>2/15/12</td>\n",
       "      <td>2012-02</td>\n",
       "      <td>2012-Q1</td>\n",
       "      <td>2012.0</td>\n",
       "      <td>20000.0</td>\n",
       "      <td>5</td>\n",
       "    </tr>\n",
       "  </tbody>\n",
       "</table>\n",
       "<p>5 rows × 21 columns</p>\n",
       "</div>"
      ],
      "text/plain": [
       "             company_permalink        company_name company_category_code  \\\n",
       "0  /company/tokita-investments  Tokita Investments            consulting   \n",
       "1            /company/advercar            AdverCar           advertising   \n",
       "2          /company/launchgram          LaunchGram                  news   \n",
       "3                /company/utap                uTaP             messaging   \n",
       "4            /company/zoopshop            ZoopShop              software   \n",
       "\n",
       "  company_country_code company_state_code         company_region  \\\n",
       "0                  JPN               None                    TBD   \n",
       "1                  USA                 CA                 SF Bay   \n",
       "2                  USA                 CA                 SF Bay   \n",
       "3                  USA               None  United States - Other   \n",
       "4                  USA                 OH               Columbus   \n",
       "\n",
       "    company_city          investor_permalink      investor_name  \\\n",
       "0    Okinawa Ken         /company/01startups         01Startups   \n",
       "1  San Francisco  /company/1-800-flowers-com  1-800-FLOWERS.COM   \n",
       "2  Mountain View        /company/10xelerator        10Xelerator   \n",
       "3           None        /company/10xelerator        10Xelerator   \n",
       "4       columbus        /company/10xelerator        10Xelerator   \n",
       "\n",
       "  investor_category_code  ... investor_state_code investor_region  \\\n",
       "0                   None  ...                None         unknown   \n",
       "1              ecommerce  ...                  NY        New York   \n",
       "2                finance  ...                  OH        Columbus   \n",
       "3                finance  ...                  OH        Columbus   \n",
       "4                finance  ...                  OH        Columbus   \n",
       "\n",
       "  investor_city funding_round_type funded_at funded_month funded_quarter  \\\n",
       "0          None              angel   9/26/13      2013-09        2013-Q3   \n",
       "1      New York           series-a  10/30/12      2012-10        2012-Q4   \n",
       "2      Columbus              other   1/23/12      2012-01        2012-Q1   \n",
       "3      Columbus              other    1/1/12      2012-01        2012-Q1   \n",
       "4      Columbus              angel   2/15/12      2012-02        2012-Q1   \n",
       "\n",
       "  funded_year  raised_amount_usd  id  \n",
       "0      2013.0             5000.0   1  \n",
       "1      2012.0          2000000.0   2  \n",
       "2      2012.0            20000.0   3  \n",
       "3      2012.0            20000.0   4  \n",
       "4      2012.0            20000.0   5  \n",
       "\n",
       "[5 rows x 21 columns]"
      ]
     },
     "execution_count": 3,
     "metadata": {},
     "output_type": "execute_result"
    }
   ],
   "source": [
    "df2 = pd.read_sql_query(\"SELECT * FROM crunchbase_investments\", conn)\n",
    "df2.head()"
   ]
  },
  {
   "cell_type": "code",
   "execution_count": 8,
   "metadata": {},
   "outputs": [
    {
     "data": {
      "text/plain": [
       "<matplotlib.axes._subplots.AxesSubplot at 0x26672d48940>"
      ]
     },
     "execution_count": 8,
     "metadata": {},
     "output_type": "execute_result"
    },
    {
     "data": {
      "image/png": "[encoded data removed]",
      "text/plain": [
       "<Figure size 432x288 with 1 Axes>"
      ]
     },
     "metadata": {},
     "output_type": "display_data"
    }
   ],
   "source": [
    "avg_fund = df2.groupby('funding_round_type').raised_amount_usd.mean()\n",
    "avg_fund = avg_fund.sort_values(ascending = False)\n",
    "avg_fund.plot(kind = 'barh', title = 'Close', color = 'blue')"
   ]
  },
  {
   "cell_type": "code",
   "execution_count": 46,
   "metadata": {},
   "outputs": [
    {
     "data": {
      "text/plain": [
       "<matplotlib.axes._subplots.AxesSubplot at 0x266013da9e8>"
      ]
     },
     "execution_count": 46,
     "metadata": {},
     "output_type": "execute_result"
    },
    {
     "data": {
      "image/png": "[encoded data removed]",
      "text/plain": [
       "<Figure size 432x288 with 1 Axes>"
      ]
     },
     "metadata": {},
     "output_type": "display_data"
    }
   ],
   "source": [
    "df1.groupby('state_code')['permalink'].count().plot()"
   ]
  },
  {
   "cell_type": "code",
   "execution_count": 47,
   "metadata": {},
   "outputs": [
    {
     "data": {
      "text/plain": [
       "<matplotlib.axes._subplots.AxesSubplot at 0x266014ead68>"
      ]
     },
     "execution_count": 47,
     "metadata": {},
     "output_type": "execute_result"
    },
    {
     "data": {
      "image/png": "[encoded data removed]",
      "text/plain": [
       "<Figure size 432x288 with 1 Axes>"
      ]
     },
     "metadata": {},
     "output_type": "display_data"
    }
   ],
   "source": [
    "df2.groupby('company_category_code')['company_permalink'].count().plot.pie()"
   ]
  },
  {
   "cell_type": "code",
   "execution_count": null,
   "metadata": {},
   "outputs": [],
   "source": []
  }
 ],
 "metadata": {
  "kernelspec": {
   "display_name": "Python 3",
   "language": "python",
   "name": "python3"
  },
  "language_info": {
   "codemirror_mode": {
    "name": "ipython",
    "version": 3
   },
   "file_extension": ".py",
   "mimetype": "text/x-python",
   "name": "python",
   "nbconvert_exporter": "python",
   "pygments_lexer": "ipython3",
   "version": "3.7.2"
  }
 },
 "nbformat": 4,
 "nbformat_minor": 1
}
